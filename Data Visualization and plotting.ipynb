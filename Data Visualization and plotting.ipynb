{
 "cells": [
  {
   "cell_type": "markdown",
   "id": "70447bb8-2dc6-4349-b7b8-30e239905c06",
   "metadata": {
    "jp-MarkdownHeadingCollapsed": true
   },
   "source": [
    "# Introduction to Matplotlib"
   ]
  },
  {
   "cell_type": "code",
   "execution_count": null,
   "id": "5c3a912a-5cd2-4b8e-a004-ec58f4138457",
   "metadata": {},
   "outputs": [],
   "source": [
    "#\"\"\" %matplotlib inline  used to display matplotlib plots inline within the Jupyter Notebook or IPython environment\"\"\"\n",
    "%matplotlib inline  \n",
    "import matplotlib.pyplot as plt\n",
    "import pandas as pd\n",
    "import numpy as np"
   ]
  },
  {
   "cell_type": "code",
   "execution_count": null,
   "id": "5a5f230b-09b1-4e1c-9b9b-d8ffc6b5329e",
   "metadata": {},
   "outputs": [],
   "source": [
    "plt.plot();"
   ]
  },
  {
   "cell_type": "code",
   "execution_count": null,
   "id": "118b8e1e-a9ea-4e8d-880a-7ec9d945b49e",
   "metadata": {},
   "outputs": [],
   "source": [
    "# or plt.plot(); can be replaced with additional code\n",
    "plt.plot()\n",
    "plt.show()"
   ]
  },
  {
   "cell_type": "code",
   "execution_count": null,
   "id": "268e145c-09c2-48d7-b875-0d3707b2b804",
   "metadata": {},
   "outputs": [],
   "source": [
    "plt.plot([1,2,3, 4]);"
   ]
  },
  {
   "cell_type": "code",
   "execution_count": null,
   "id": "644bc43d-695c-4a15-a121-c6beea7edba2",
   "metadata": {},
   "outputs": [],
   "source": [
    "x = [1,2,3,4]\n",
    "y = [11, 22, 33, 44]\n",
    "plt.plot(x,y);"
   ]
  },
  {
   "cell_type": "code",
   "execution_count": null,
   "id": "eb85ec5e-c206-4bd3-8959-f5d6e07104c5",
   "metadata": {},
   "outputs": [],
   "source": [
    "# 1st method\n",
    "fig = plt.figure() # creates a figure\n",
    "ax = fig.add_subplot() # this add some axes\n",
    "plt.show()"
   ]
  },
  {
   "cell_type": "code",
   "execution_count": null,
   "id": "80c18d05-1e74-4f33-aecf-34bcf1cbc7b4",
   "metadata": {},
   "outputs": [],
   "source": [
    "# 2nd method\n",
    "fig = plt.figure() # creates a figure\n",
    "ax = fig.add_axes([1, 1, 1, 1])\n",
    "ax.plot(x, y)\n",
    "plt.show()\n"
   ]
  },
  {
   "cell_type": "code",
   "execution_count": null,
   "id": "f6b86682-f926-4aa7-b3f0-2f64accd8e56",
   "metadata": {},
   "outputs": [],
   "source": [
    "# 3rd method which we will be using the most( recommended)\n",
    "z = [2,3,4,5]\n",
    "fig, ax = plt.subplots() # This line of code uses tuple unpacking to assign the returned \n",
    "                         # values from plt.subplots() to two variables: fig and ax.\n",
    "ax.plot(x, [50,100 , 200, 250]);\n",
    "type(fig), type(ax)"
   ]
  },
  {
   "cell_type": "markdown",
   "id": "f9d6006d-146f-48b1-8164-0faf6f62e89d",
   "metadata": {
    "jp-MarkdownHeadingCollapsed": true
   },
   "source": [
    "# Matplotlib Example workflow"
   ]
  },
  {
   "cell_type": "code",
   "execution_count": null,
   "id": "751feab7-2af0-450c-9a3d-5dfafb43da50",
   "metadata": {},
   "outputs": [],
   "source": [
    "# 0 Import matplotlib and get it ready for plotting in Jupyter\n",
    "%matplotlib inline\n",
    "import matplotlib.pyplot as plt\n",
    "\n",
    "# 1. Prepare data\n",
    "x = [1, 2, 3, 4]\n",
    "y = [11, 22, 33, 44]\n",
    "\n",
    "# 2. setup plot\n",
    "#fig, ax = plt.subplots()\n",
    "#fig, ax = plt.subplots(nrows=2, ncols=1) # They are essential when you need to create multiple subplots and want to arrange them in a grid-like fashion.\n",
    "#fig, ax = plt.subplots(figsize=(8, 6)) # This parameter is used to control the size of the entire figure in inches.\n",
    "#fig, ax = plt.subplots(2, 2, sharex=True, sharey=True) \n",
    "#fig, ax = plt.subplots(squeeze=False)\n",
    "#fig, ax = plt.subplots(subplot_kw={'projection': '3d'})\n",
    "fig, ax = plt.subplots(gridspec_kw={'hspace': 0.5, 'wspace': 0.2})\n",
    "\n",
    "# 3. Plot Data\n",
    "ax.plot(x, y)\n",
    "\n",
    "# 4. Customize the plot\n",
    "\n",
    "ax.set(title = \"Simple Plot\",\n",
    "       xlabel = \" X- axis\",\n",
    "       ylabel = \"Y- axis\")\n",
    "\n",
    "# 5. Save and how the whole Figure\n",
    "\n",
    "fig.savefig(r\"C:\\Users\\karki\\OneDrive\\Desktop\\Sample-plot.png\")"
   ]
  },
  {
   "cell_type": "markdown",
   "id": "4cc5ea3c-b551-43c5-b02d-f632a134ee00",
   "metadata": {
    "jp-MarkdownHeadingCollapsed": true
   },
   "source": [
    "# Scatter Plot and Bar Plot"
   ]
  },
  {
   "cell_type": "markdown",
   "id": "7d5021ed-1d4e-448a-b124-575dcc11e4dc",
   "metadata": {},
   "source": [
    "## Making figures with numpy arrays\n",
    "\n",
    "We want:\n",
    "* Line plot\n",
    "* Scatter Plot\n",
    "* Bar plot\n",
    "* Hist\n",
    "* subplot"
   ]
  },
  {
   "cell_type": "code",
   "execution_count": null,
   "id": "c1f4b032-83ba-402a-8511-75d1313bf53d",
   "metadata": {},
   "outputs": [],
   "source": [
    "import numpy as np"
   ]
  },
  {
   "cell_type": "code",
   "execution_count": null,
   "id": "e38d1ef8-6d37-4685-9eca-5e20b57f7931",
   "metadata": {},
   "outputs": [],
   "source": [
    "# Create some data\n",
    "x = np.linspace(0, 10, num = 100)\n",
    "x[:10]"
   ]
  },
  {
   "cell_type": "code",
   "execution_count": null,
   "id": "c142066c-2dda-4e56-9437-20788b3cd31d",
   "metadata": {},
   "outputs": [],
   "source": [
    "fig, ax = plt.subplots()\n",
    "\n",
    "ax.plot(x, x ** 2);"
   ]
  },
  {
   "cell_type": "code",
   "execution_count": null,
   "id": "c2a6681a-921f-407c-b943-1f4ce97e8e6c",
   "metadata": {},
   "outputs": [],
   "source": [
    "# Making Scatter Plot\n",
    "fig , ax = plt.subplots()\n",
    "\n",
    "ax.scatter(x, np.exp(x));"
   ]
  },
  {
   "cell_type": "code",
   "execution_count": null,
   "id": "42f6e753-d8db-4e30-85b7-9b0057f8bbe8",
   "metadata": {},
   "outputs": [],
   "source": [
    "# Another scatter plt\n",
    "\n",
    "fig, ax = plt.subplots()\n",
    "ax.scatter(x, np.sin(x))"
   ]
  },
  {
   "cell_type": "code",
   "execution_count": null,
   "id": "8890321e-7084-4eeb-928b-e527ef33d62f",
   "metadata": {},
   "outputs": [],
   "source": [
    "# Make a plot from Dictionary\n",
    "nut_butter_prices = { \"Almond butter\" : 10,\n",
    "                     \"peanut butter\" : 8,\n",
    "                    }\n",
    "fig, ax = plt.subplots()\n",
    "\n",
    "ax.bar(nut_butter_prices.keys(), height = nut_butter_prices.values());\n",
    "ax.set(title = \"Dans Nut store\",\n",
    "       ylabel = \"Price ($)\");"
   ]
  },
  {
   "cell_type": "code",
   "execution_count": null,
   "id": "79d47c46-3623-4f61-bb0a-c256e03dfe84",
   "metadata": {},
   "outputs": [],
   "source": [
    "# make some datas for Histograms and plot it\n",
    "np.random.seed(0)\n",
    "x = np.random.randn(1000)\n",
    "fix, ax = plt.subplots()\n",
    "\n",
    "ax.hist(x);"
   ]
  },
  {
   "cell_type": "markdown",
   "id": "cc563dd0-0f1a-4d65-af2e-99f0a7cc13d6",
   "metadata": {},
   "source": [
    "### Two options for subplots"
   ]
  },
  {
   "cell_type": "code",
   "execution_count": null,
   "id": "f3e4ff11-d9fd-48c0-af54-4221682e9a41",
   "metadata": {},
   "outputs": [],
   "source": [
    "# Subplot option no. 1\n",
    "\n",
    "fig, ((ax1, ax2), (ax3, ax4)) = plt.subplots(nrows = 2,\n",
    "                                            ncols= 2,\n",
    "                                            figsize = (10, 6));\n",
    "#plot to each different axis\n",
    "ax1.plot(x, x/2);\n",
    "ax2.scatter(np.random.random(100), np.random.random(100));\n",
    "ax3.bar(nut_butter_prices.keys(), nut_butter_prices.values());\n",
    "ax4.hist(np.random.randn(1000));\n"
   ]
  },
  {
   "cell_type": "code",
   "execution_count": null,
   "id": "6185bd82-d1d3-4066-a15d-675ee1d82765",
   "metadata": {},
   "outputs": [],
   "source": [
    "# Subplot option 2\n",
    "np.random.seed(2)\n",
    "fig, ax = plt.subplots(nrows = 2,\n",
    "                      ncols = 2,\n",
    "                      figsize = (10,6))\n",
    "#plot to each different index\n",
    "ax[0, 0].plot(x , x/2);\n",
    "ax[0, 1].scatter(np.random.random(20), np.random.random(20));\n",
    "ax[1, 0].bar(nut_butter_prices.keys(), nut_butter_prices.values());\n",
    "ax[1, 1].hist(np.random.randn(1000));\n"
   ]
  },
  {
   "cell_type": "markdown",
   "id": "2c600bb2-5908-438a-b9ec-04ab35482c93",
   "metadata": {
    "jp-MarkdownHeadingCollapsed": true
   },
   "source": [
    "# Plotting from pandas DataFrames"
   ]
  },
  {
   "cell_type": "code",
   "execution_count": 55,
   "id": "279128f2-fa93-41bc-838b-36b2bbff6849",
   "metadata": {},
   "outputs": [],
   "source": [
    "import pandas as pd\n",
    "import numpy as np\n",
    "import matplotlib.pyplot as plt"
   ]
  },
  {
   "cell_type": "code",
   "execution_count": 56,
   "id": "b7d9ecb3-a1e7-415d-b51e-9cf6b9471603",
   "metadata": {},
   "outputs": [
    {
     "data": {
      "text/html": [
       "<div>\n",
       "<style scoped>\n",
       "    .dataframe tbody tr th:only-of-type {\n",
       "        vertical-align: middle;\n",
       "    }\n",
       "\n",
       "    .dataframe tbody tr th {\n",
       "        vertical-align: top;\n",
       "    }\n",
       "\n",
       "    .dataframe thead th {\n",
       "        text-align: right;\n",
       "    }\n",
       "</style>\n",
       "<table border=\"1\" class=\"dataframe\">\n",
       "  <thead>\n",
       "    <tr style=\"text-align: right;\">\n",
       "      <th></th>\n",
       "      <th>Make</th>\n",
       "      <th>Colour</th>\n",
       "      <th>Odometer (KM)</th>\n",
       "      <th>Doors</th>\n",
       "      <th>Price</th>\n",
       "    </tr>\n",
       "  </thead>\n",
       "  <tbody>\n",
       "    <tr>\n",
       "      <th>0</th>\n",
       "      <td>Toyota</td>\n",
       "      <td>White</td>\n",
       "      <td>150043</td>\n",
       "      <td>4</td>\n",
       "      <td>$4,000.00</td>\n",
       "    </tr>\n",
       "    <tr>\n",
       "      <th>1</th>\n",
       "      <td>Honda</td>\n",
       "      <td>Red</td>\n",
       "      <td>87899</td>\n",
       "      <td>4</td>\n",
       "      <td>$5,000.00</td>\n",
       "    </tr>\n",
       "    <tr>\n",
       "      <th>2</th>\n",
       "      <td>Toyota</td>\n",
       "      <td>Blue</td>\n",
       "      <td>32549</td>\n",
       "      <td>3</td>\n",
       "      <td>$7,000.00</td>\n",
       "    </tr>\n",
       "    <tr>\n",
       "      <th>3</th>\n",
       "      <td>BMW</td>\n",
       "      <td>Black</td>\n",
       "      <td>11179</td>\n",
       "      <td>5</td>\n",
       "      <td>$22,000.00</td>\n",
       "    </tr>\n",
       "    <tr>\n",
       "      <th>4</th>\n",
       "      <td>Nissan</td>\n",
       "      <td>White</td>\n",
       "      <td>213095</td>\n",
       "      <td>4</td>\n",
       "      <td>$3,500.00</td>\n",
       "    </tr>\n",
       "    <tr>\n",
       "      <th>5</th>\n",
       "      <td>Toyota</td>\n",
       "      <td>Green</td>\n",
       "      <td>99213</td>\n",
       "      <td>4</td>\n",
       "      <td>$4,500.00</td>\n",
       "    </tr>\n",
       "    <tr>\n",
       "      <th>6</th>\n",
       "      <td>Honda</td>\n",
       "      <td>Blue</td>\n",
       "      <td>45698</td>\n",
       "      <td>4</td>\n",
       "      <td>$7,500.00</td>\n",
       "    </tr>\n",
       "    <tr>\n",
       "      <th>7</th>\n",
       "      <td>Honda</td>\n",
       "      <td>Blue</td>\n",
       "      <td>54738</td>\n",
       "      <td>4</td>\n",
       "      <td>$7,000.00</td>\n",
       "    </tr>\n",
       "    <tr>\n",
       "      <th>8</th>\n",
       "      <td>Toyota</td>\n",
       "      <td>White</td>\n",
       "      <td>60000</td>\n",
       "      <td>4</td>\n",
       "      <td>$6,250.00</td>\n",
       "    </tr>\n",
       "    <tr>\n",
       "      <th>9</th>\n",
       "      <td>Nissan</td>\n",
       "      <td>White</td>\n",
       "      <td>31600</td>\n",
       "      <td>4</td>\n",
       "      <td>$9,700.00</td>\n",
       "    </tr>\n",
       "  </tbody>\n",
       "</table>\n",
       "</div>"
      ],
      "text/plain": [
       "     Make Colour  Odometer (KM)  Doors       Price\n",
       "0  Toyota  White         150043      4   $4,000.00\n",
       "1   Honda    Red          87899      4   $5,000.00\n",
       "2  Toyota   Blue          32549      3   $7,000.00\n",
       "3     BMW  Black          11179      5  $22,000.00\n",
       "4  Nissan  White         213095      4   $3,500.00\n",
       "5  Toyota  Green          99213      4   $4,500.00\n",
       "6   Honda   Blue          45698      4   $7,500.00\n",
       "7   Honda   Blue          54738      4   $7,000.00\n",
       "8  Toyota  White          60000      4   $6,250.00\n",
       "9  Nissan  White          31600      4   $9,700.00"
      ]
     },
     "execution_count": 56,
     "metadata": {},
     "output_type": "execute_result"
    }
   ],
   "source": [
    "df = pd.read_csv(r\"D:\\Torrents\\[FreeCourseSite.com] Udemy - Complete Machine Learning & Data Science Bootcamp 2023\\6 - Pandas Data Analysis\\52 - car-sales.csv\")\n",
    "df"
   ]
  },
  {
   "cell_type": "code",
   "execution_count": 57,
   "id": "44104993-e1cf-462e-b349-4f982a0aa39b",
   "metadata": {},
   "outputs": [
    {
     "data": {
      "image/png": "[encoded data removed]",
      "text/plain": [
       "<Figure size 640x480 with 1 Axes>"
      ]
     },
     "metadata": {},
     "output_type": "display_data"
    }
   ],
   "source": [
    "np.random.seed(0)\n",
    "ts = pd.Series(np.random.randn(1000),\n",
    "              index = pd.date_range(\"1/1/2020\", periods=1000))\n",
    "ts = ts.cumsum()\n",
    "ts.plot();"
   ]
  },
  {
   "cell_type": "code",
   "execution_count": 58,
   "id": "ec235af2-8a76-4ae2-bf25-46e227eb5423",
   "metadata": {},
   "outputs": [
    {
     "data": {
      "text/html": [
       "<div>\n",
       "<style scoped>\n",
       "    .dataframe tbody tr th:only-of-type {\n",
       "        vertical-align: middle;\n",
       "    }\n",
       "\n",
       "    .dataframe tbody tr th {\n",
       "        vertical-align: top;\n",
       "    }\n",
       "\n",
       "    .dataframe thead th {\n",
       "        text-align: right;\n",
       "    }\n",
       "</style>\n",
       "<table border=\"1\" class=\"dataframe\">\n",
       "  <thead>\n",
       "    <tr style=\"text-align: right;\">\n",
       "      <th></th>\n",
       "      <th>age</th>\n",
       "      <th>sex</th>\n",
       "      <th>cp</th>\n",
       "      <th>trestbps</th>\n",
       "      <th>chol</th>\n",
       "      <th>fbs</th>\n",
       "      <th>restecg</th>\n",
       "      <th>thalach</th>\n",
       "      <th>exang</th>\n",
       "      <th>oldpeak</th>\n",
       "      <th>slope</th>\n",
       "      <th>ca</th>\n",
       "      <th>thal</th>\n",
       "      <th>target</th>\n",
       "    </tr>\n",
       "  </thead>\n",
       "  <tbody>\n",
       "    <tr>\n",
       "      <th>0</th>\n",
       "      <td>63</td>\n",
       "      <td>1</td>\n",
       "      <td>3</td>\n",
       "      <td>145</td>\n",
       "      <td>233</td>\n",
       "      <td>1</td>\n",
       "      <td>0</td>\n",
       "      <td>150</td>\n",
       "      <td>0</td>\n",
       "      <td>2.3</td>\n",
       "      <td>0</td>\n",
       "      <td>0</td>\n",
       "      <td>1</td>\n",
       "      <td>1</td>\n",
       "    </tr>\n",
       "    <tr>\n",
       "      <th>1</th>\n",
       "      <td>37</td>\n",
       "      <td>1</td>\n",
       "      <td>2</td>\n",
       "      <td>130</td>\n",
       "      <td>250</td>\n",
       "      <td>0</td>\n",
       "      <td>1</td>\n",
       "      <td>187</td>\n",
       "      <td>0</td>\n",
       "      <td>3.5</td>\n",
       "      <td>0</td>\n",
       "      <td>0</td>\n",
       "      <td>2</td>\n",
       "      <td>1</td>\n",
       "    </tr>\n",
       "    <tr>\n",
       "      <th>2</th>\n",
       "      <td>41</td>\n",
       "      <td>0</td>\n",
       "      <td>1</td>\n",
       "      <td>130</td>\n",
       "      <td>204</td>\n",
       "      <td>0</td>\n",
       "      <td>0</td>\n",
       "      <td>172</td>\n",
       "      <td>0</td>\n",
       "      <td>1.4</td>\n",
       "      <td>2</td>\n",
       "      <td>0</td>\n",
       "      <td>2</td>\n",
       "      <td>1</td>\n",
       "    </tr>\n",
       "    <tr>\n",
       "      <th>3</th>\n",
       "      <td>56</td>\n",
       "      <td>1</td>\n",
       "      <td>1</td>\n",
       "      <td>120</td>\n",
       "      <td>236</td>\n",
       "      <td>0</td>\n",
       "      <td>1</td>\n",
       "      <td>178</td>\n",
       "      <td>0</td>\n",
       "      <td>0.8</td>\n",
       "      <td>2</td>\n",
       "      <td>0</td>\n",
       "      <td>2</td>\n",
       "      <td>1</td>\n",
       "    </tr>\n",
       "    <tr>\n",
       "      <th>4</th>\n",
       "      <td>57</td>\n",
       "      <td>0</td>\n",
       "      <td>0</td>\n",
       "      <td>120</td>\n",
       "      <td>354</td>\n",
       "      <td>0</td>\n",
       "      <td>1</td>\n",
       "      <td>163</td>\n",
       "      <td>1</td>\n",
       "      <td>0.6</td>\n",
       "      <td>2</td>\n",
       "      <td>0</td>\n",
       "      <td>2</td>\n",
       "      <td>1</td>\n",
       "    </tr>\n",
       "  </tbody>\n",
       "</table>\n",
       "</div>"
      ],
      "text/plain": [
       "   age  sex  cp  trestbps  chol  fbs  restecg  thalach  exang  oldpeak  slope  \\\n",
       "0   63    1   3       145   233    1        0      150      0      2.3      0   \n",
       "1   37    1   2       130   250    0        1      187      0      3.5      0   \n",
       "2   41    0   1       130   204    0        0      172      0      1.4      2   \n",
       "3   56    1   1       120   236    0        1      178      0      0.8      2   \n",
       "4   57    0   0       120   354    0        1      163      1      0.6      2   \n",
       "\n",
       "   ca  thal  target  \n",
       "0   0     1       1  \n",
       "1   0     2       1  \n",
       "2   0     2       1  \n",
       "3   0     2       1  \n",
       "4   0     2       1  "
      ]
     },
     "execution_count": 58,
     "metadata": {},
     "output_type": "execute_result"
    }
   ],
   "source": [
    "df = pd.read_csv(r\"D:\\Torrents\\[FreeCourseSite.com] Udemy - Complete Machine Learning & Data Science Bootcamp 2023\\8 - Matplotlib Plotting and Data Visualization\\90 - heart-disease.csv\")\n",
    "df.head()"
   ]
  },
  {
   "cell_type": "code",
   "execution_count": 59,
   "id": "3805a703-e7b3-46b3-91dc-2383f1276533",
   "metadata": {},
   "outputs": [
    {
     "data": {
      "text/plain": [
       "<Axes: ylabel='Frequency'>"
      ]
     },
     "execution_count": 59,
     "metadata": {},
     "output_type": "execute_result"
    },
    {
     "data": {
      "image/png": "[encoded data removed]",
      "text/plain": [
       "<Figure size 640x480 with 1 Axes>"
      ]
     },
     "metadata": {},
     "output_type": "display_data"
    }
   ],
   "source": [
    "# create a histogram of age\n",
    "df[\"age\"].plot.hist(bins = 50)"
   ]
  },
  {
   "cell_type": "code",
   "execution_count": 60,
   "id": "b59c9308-258c-420a-a8d3-3fdf783ff970",
   "metadata": {},
   "outputs": [],
   "source": [
    "df.head()\n",
    "df[\"age\"] =  df['age'].astype(\"int\")"
   ]
  },
  {
   "cell_type": "code",
   "execution_count": 61,
   "id": "ead15f71-9521-481e-a322-c606ef7552de",
   "metadata": {},
   "outputs": [
    {
     "data": {
      "text/plain": [
       "208"
      ]
     },
     "execution_count": 61,
     "metadata": {},
     "output_type": "execute_result"
    }
   ],
   "source": [
    "over_50 = df[df[\"age\"] > 50]\n",
    "over_50.head()\n",
    "len(over_50)"
   ]
  },
  {
   "cell_type": "code",
   "execution_count": 62,
   "id": "80df6c8b-2fd0-4750-868b-9ead2c11796b",
   "metadata": {},
   "outputs": [
    {
     "data": {
      "image/png": "[encoded data removed]",
      "text/plain": [
       "<Figure size 640x480 with 2 Axes>"
      ]
     },
     "metadata": {},
     "output_type": "display_data"
    }
   ],
   "source": [
    "# pyplot method\n",
    "over_50.plot(kind = 'scatter',\n",
    "             x = 'age',\n",
    "             y = 'chol',\n",
    "             c='target');"
   ]
  },
  {
   "cell_type": "code",
   "execution_count": 72,
   "id": "0280693f-a796-43e7-89d2-b1e83143eb89",
   "metadata": {},
   "outputs": [
    {
     "data": {
      "image/png": "[encoded data removed]",
      "text/plain": [
       "<Figure size 1000x600 with 2 Axes>"
      ]
     },
     "metadata": {},
     "output_type": "display_data"
    }
   ],
   "source": [
    "# OO method\n",
    "plt.style.use(\"ggplot\")\n",
    "fig, ax = plt.subplots(figsize = (10, 6))\n",
    "over_50.plot(kind= \"scatter\",\n",
    "            x = 'age',\n",
    "            y = 'chol',\n",
    "            c = 'target',\n",
    "            ax = ax);"
   ]
  },
  {
   "cell_type": "markdown",
   "id": "7b33d8d2-66b7-46ed-8674-8a5b6185d476",
   "metadata": {},
   "source": [
    "# Customizing the Matplotlib plots and getting stylish"
   ]
  },
  {
   "cell_type": "code",
   "execution_count": 67,
   "id": "e46f273f-b703-4997-8844-fec263494df0",
   "metadata": {},
   "outputs": [
    {
     "data": {
      "text/plain": [
       "['Solarize_Light2',\n",
       " '_classic_test_patch',\n",
       " '_mpl-gallery',\n",
       " '_mpl-gallery-nogrid',\n",
       " 'bmh',\n",
       " 'classic',\n",
       " 'dark_background',\n",
       " 'fast',\n",
       " 'fivethirtyeight',\n",
       " 'ggplot',\n",
       " 'grayscale',\n",
       " 'seaborn-v0_8',\n",
       " 'seaborn-v0_8-bright',\n",
       " 'seaborn-v0_8-colorblind',\n",
       " 'seaborn-v0_8-dark',\n",
       " 'seaborn-v0_8-dark-palette',\n",
       " 'seaborn-v0_8-darkgrid',\n",
       " 'seaborn-v0_8-deep',\n",
       " 'seaborn-v0_8-muted',\n",
       " 'seaborn-v0_8-notebook',\n",
       " 'seaborn-v0_8-paper',\n",
       " 'seaborn-v0_8-pastel',\n",
       " 'seaborn-v0_8-poster',\n",
       " 'seaborn-v0_8-talk',\n",
       " 'seaborn-v0_8-ticks',\n",
       " 'seaborn-v0_8-white',\n",
       " 'seaborn-v0_8-whitegrid',\n",
       " 'tableau-colorblind10']"
      ]
     },
     "execution_count": 67,
     "metadata": {},
     "output_type": "execute_result"
    }
   ],
   "source": [
    "plt.style.available"
   ]
  },
  {
   "cell_type": "code",
   "execution_count": null,
   "id": "e5247d3e-ad0d-400e-ac42-cb489b987f6a",
   "metadata": {},
   "outputs": [],
   "source": []
  }
 ],
 "metadata": {
  "kernelspec": {
   "display_name": "Python 3 (ipykernel)",
   "language": "python",
   "name": "python3"
  },
  "language_info": {
   "codemirror_mode": {
    "name": "ipython",
    "version": 3
   },
   "file_extension": ".py",
   "mimetype": "text/x-python",
   "name": "python",
   "nbconvert_exporter": "python",
   "pygments_lexer": "ipython3",
   "version": "3.11.3"
  }
 },
 "nbformat": 4,
 "nbformat_minor": 5
}
