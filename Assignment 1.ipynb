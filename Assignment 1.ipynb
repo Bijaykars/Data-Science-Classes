{
 "cells": [
  {
   "cell_type": "code",
   "execution_count": 1,
   "id": "f1df8486-cd2c-403c-b0e6-1da872e1b97d",
   "metadata": {},
   "outputs": [
    {
     "name": "stdout",
     "output_type": "stream",
     "text": [
      "Hello, my name is Bijay Karki and i am 24 years old\n"
     ]
    }
   ],
   "source": [
    "# Personal Information\n",
    "name = 'Bijay Karki'\n",
    "age = 24\n",
    "\n",
    "print(f'Hello, my name is {name} and i am {age} years old')"
   ]
  },
  {
   "cell_type": "code",
   "execution_count": 2,
   "id": "c78e93c6-8e27-49bc-95f9-6534cbc5ec15",
   "metadata": {},
   "outputs": [
    {
     "name": "stdout",
     "output_type": "stream",
     "text": [
      "['Basketball', 'Football', 'Online Gaming', 'Cricket']\n"
     ]
    }
   ],
   "source": [
    "#favorite Hobbies\n",
    "favorite_hobbies = ['Basketball', 'Football', 'Online Gaming']\n",
    "favorite_hobbies.append('Cricket')\n",
    "\n",
    "print(favorite_hobbies)"
   ]
  },
  {
   "cell_type": "code",
   "execution_count": 3,
   "id": "19e679f2-e7c1-4bb0-83ca-63687bd4142c",
   "metadata": {},
   "outputs": [
    {
     "ename": "TypeError",
     "evalue": "'tuple' object does not support item assignment",
     "output_type": "error",
     "traceback": [
      "\u001b[1;31m---------------------------------------------------------------------------\u001b[0m",
      "\u001b[1;31mTypeError\u001b[0m                                 Traceback (most recent call last)",
      "Cell \u001b[1;32mIn[3], line 3\u001b[0m\n\u001b[0;32m      1\u001b[0m \u001b[38;5;66;03m# Screen Dimension\u001b[39;00m\n\u001b[0;32m      2\u001b[0m screen_dimensions \u001b[38;5;241m=\u001b[39m (\u001b[38;5;241m3840\u001b[39m, \u001b[38;5;241m2160\u001b[39m)\n\u001b[1;32m----> 3\u001b[0m \u001b[43mscreen_dimensions\u001b[49m\u001b[43m[\u001b[49m\u001b[38;5;241;43m0\u001b[39;49m\u001b[43m]\u001b[49m \u001b[38;5;241m=\u001b[39m \u001b[38;5;241m4000\u001b[39m\n",
      "\u001b[1;31mTypeError\u001b[0m: 'tuple' object does not support item assignment"
     ]
    }
   ],
   "source": [
    "# Screen Dimension\n",
    "screen_dimensions = (3840, 2160)\n",
    "screen_dimensions[0] = 4000"
   ]
  },
  {
   "cell_type": "code",
   "execution_count": 4,
   "id": "4ed3a027-1850-4c7e-b864-2fe3a8768858",
   "metadata": {},
   "outputs": [
    {
     "name": "stdout",
     "output_type": "stream",
     "text": [
      "Our pet Bolt's color is Golden.\n"
     ]
    }
   ],
   "source": [
    "#Pet Description\n",
    "pet = {\n",
    "    'type' : 'Border Collie',\n",
    "    'name' : 'Bolt',\n",
    "    'age' : 2\n",
    "}\n",
    "pet[\"color\"] = \"Golden\"\n",
    "print(f\"Our pet {pet['name']}'s color is {pet['color']}.\")"
   ]
  },
  {
   "cell_type": "code",
   "execution_count": 5,
   "id": "4c60580e-a9b5-48a5-a6b3-a7de3429a644",
   "metadata": {},
   "outputs": [
    {
     "name": "stdin",
     "output_type": "stream",
     "text": [
      "Enter your age  22\n"
     ]
    },
    {
     "name": "stdout",
     "output_type": "stream",
     "text": [
      "I am an adult.\n"
     ]
    }
   ],
   "source": [
    "# Adult Status\n",
    "age = int(input(\"Enter your age \"))\n",
    "is_adult = age >= 18\n",
    "if is_adult:\n",
    "    print(\"I am an adult.\")\n",
    "else:\n",
    "    print(\"I am not an adult.\")"
   ]
  }
 ],
 "metadata": {
  "kernelspec": {
   "display_name": "Python 3 (ipykernel)",
   "language": "python",
   "name": "python3"
  },
  "language_info": {
   "codemirror_mode": {
    "name": "ipython",
    "version": 3
   },
   "file_extension": ".py",
   "mimetype": "text/x-python",
   "name": "python",
   "nbconvert_exporter": "python",
   "pygments_lexer": "ipython3",
   "version": "3.11.3"
  }
 },
 "nbformat": 4,
 "nbformat_minor": 5
}
