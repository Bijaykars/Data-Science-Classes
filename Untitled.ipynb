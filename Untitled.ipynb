{
 "cells": [
  {
   "cell_type": "markdown",
   "id": "2b9137a2-4f07-499b-9b1e-830b7efdc421",
   "metadata": {
    "jp-MarkdownHeadingCollapsed": true
   },
   "source": [
    "# Typecasting    \n",
    "\n",
    "#### Is used to convert integer to float or any other data type "
   ]
  },
  {
   "cell_type": "code",
   "execution_count": null,
   "id": "113d13b1-6f3b-4e6d-9d21-091dd76e9842",
   "metadata": {
    "scrolled": true
   },
   "outputs": [],
   "source": [
    "x = 10\n",
    "y = 3.14\n",
    "\n",
    "x = float(x)\n"
   ]
  },
  {
   "cell_type": "markdown",
   "id": "26d2a2b0-4d22-4b7f-8291-1bd4a5ee0227",
   "metadata": {
    "jp-MarkdownHeadingCollapsed": true
   },
   "source": [
    "# Comparision operators\n",
    "\n",
    "##  != not equal to\""
   ]
  },
  {
   "cell_type": "code",
   "execution_count": null,
   "id": "31895c6d-be94-4168-aece-312e6b49e77b",
   "metadata": {},
   "outputs": [],
   "source": [
    "import math"
   ]
  },
  {
   "cell_type": "code",
   "execution_count": null,
   "id": "a727a8ef-0c37-4911-9489-448217e8184c",
   "metadata": {},
   "outputs": [],
   "source": [
    "x = -5.5"
   ]
  },
  {
   "cell_type": "code",
   "execution_count": null,
   "id": "5ad57d83-4c0f-461a-b6d2-9e44b2b9cc01",
   "metadata": {},
   "outputs": [],
   "source": [
    "print(abs(x))"
   ]
  },
  {
   "cell_type": "code",
   "execution_count": null,
   "id": "4b9779ba-ece5-415d-8f00-70b16cc6e6f2",
   "metadata": {},
   "outputs": [],
   "source": [
    "print(round(x))"
   ]
  },
  {
   "cell_type": "code",
   "execution_count": null,
   "id": "3562dc02-2ed6-4342-b825-7b8d1a1de019",
   "metadata": {},
   "outputs": [],
   "source": [
    "print(max(1,2,3))"
   ]
  },
  {
   "cell_type": "code",
   "execution_count": null,
   "id": "65fa4d8b-25e0-4f5e-8016-9fbba454e59c",
   "metadata": {},
   "outputs": [],
   "source": [
    "print(pow(2,3))"
   ]
  },
  {
   "cell_type": "code",
   "execution_count": null,
   "id": "4dfacb00-7eac-49d7-97f1-8ea67aee275a",
   "metadata": {},
   "outputs": [],
   "source": [
    "print(math.sqrt(18))"
   ]
  },
  {
   "cell_type": "code",
   "execution_count": null,
   "id": "fbb331e1-3464-4cf0-955c-f6451c338a8f",
   "metadata": {},
   "outputs": [],
   "source": [
    "math.cbrt(27)"
   ]
  },
  {
   "cell_type": "markdown",
   "id": "5ca4481d-39f3-4335-8774-ad130ddfd601",
   "metadata": {
    "jp-MarkdownHeadingCollapsed": true
   },
   "source": [
    "# Defining Strings\n"
   ]
  },
  {
   "cell_type": "code",
   "execution_count": null,
   "id": "5a930bfa-db51-43c5-9c27-4192f1a41c3c",
   "metadata": {},
   "outputs": [],
   "source": [
    "x = \"               Hello , Wordl!\""
   ]
  },
  {
   "cell_type": "code",
   "execution_count": null,
   "id": "e955735b-d242-454c-88a7-9bb858709ca0",
   "metadata": {},
   "outputs": [],
   "source": [
    "x = x.strip()"
   ]
  },
  {
   "cell_type": "code",
   "execution_count": null,
   "id": "c16ff72c-94da-47be-a166-98dbc227add8",
   "metadata": {},
   "outputs": [],
   "source": [
    "print(x.lower())"
   ]
  },
  {
   "cell_type": "code",
   "execution_count": null,
   "id": "31d0515a-ff79-422f-9253-7e95dd091a48",
   "metadata": {},
   "outputs": [],
   "source": [
    "print(x.split(\",\"))"
   ]
  },
  {
   "cell_type": "code",
   "execution_count": null,
   "id": "620ca492-1626-42da-a0ac-839977f96cb2",
   "metadata": {},
   "outputs": [],
   "source": [
    "print(x.endswith(\"World!\"))"
   ]
  },
  {
   "cell_type": "code",
   "execution_count": null,
   "id": "a23c2075-b972-4de8-b866-a96e4daa0892",
   "metadata": {},
   "outputs": [],
   "source": [
    "x[6]"
   ]
  },
  {
   "cell_type": "code",
   "execution_count": null,
   "id": "9f590df4-8101-47f2-a9d1-42b2a699d110",
   "metadata": {},
   "outputs": [],
   "source": [
    "x[0:6]"
   ]
  },
  {
   "cell_type": "code",
   "execution_count": null,
   "id": "dcb48ee6-56e5-415b-94b1-978503684b0b",
   "metadata": {},
   "outputs": [],
   "source": [
    "x[:5]"
   ]
  },
  {
   "cell_type": "code",
   "execution_count": null,
   "id": "d365cbae-2f09-4554-96f6-97fc67e2539c",
   "metadata": {},
   "outputs": [],
   "source": [
    "x[::-1]"
   ]
  },
  {
   "cell_type": "markdown",
   "id": "3b3a3f84-f2fa-400b-b4cc-d0448d20b6a1",
   "metadata": {
    "jp-MarkdownHeadingCollapsed": true
   },
   "source": [
    "# String Formatting"
   ]
  },
  {
   "cell_type": "code",
   "execution_count": null,
   "id": "262a0036-26ce-4ed1-92be-9992f580d4eb",
   "metadata": {},
   "outputs": [],
   "source": [
    "x = \"Hawa\"\n",
    "y = 25"
   ]
  },
  {
   "cell_type": "code",
   "execution_count": null,
   "id": "ff04d452-c5cb-43bc-9803-84350772349d",
   "metadata": {},
   "outputs": [],
   "source": [
    "print(\"My name is %s and i am %d  years old.\" %(x,y))"
   ]
  },
  {
   "cell_type": "code",
   "execution_count": null,
   "id": "0e2041ff-68cd-413d-8e86-f41028b7d495",
   "metadata": {},
   "outputs": [],
   "source": [
    "print(f\" aslkdjsaldsad  {x} , asdadasdasdad {y}\")\n"
   ]
  },
  {
   "cell_type": "markdown",
   "id": "dec0a61b-2d7d-4099-a8dc-ba0e439e593d",
   "metadata": {
    "jp-MarkdownHeadingCollapsed": true
   },
   "source": [
    "# Sqeunce Types including different data types"
   ]
  },
  {
   "cell_type": "markdown",
   "id": "94fb02fb-b8cf-4415-ae82-a6b9f7a7e632",
   "metadata": {},
   "source": [
    "#### List  = [ ]"
   ]
  },
  {
   "cell_type": "code",
   "execution_count": null,
   "id": "6734e82a-db15-4c4f-9a5a-176fe2a31243",
   "metadata": {},
   "outputs": [],
   "source": [
    "x = [1 , \"Bijay\" , True , 6]"
   ]
  },
  {
   "cell_type": "code",
   "execution_count": null,
   "id": "85d64a9a-408f-4fc2-9ebd-f479d5b140e0",
   "metadata": {},
   "outputs": [],
   "source": [
    "type(x)"
   ]
  },
  {
   "cell_type": "markdown",
   "id": "a0e7596b-60da-4f44-aa04-ad054fca8f68",
   "metadata": {
    "jp-MarkdownHeadingCollapsed": true
   },
   "source": [
    "# Slicing Lists"
   ]
  },
  {
   "cell_type": "markdown",
   "id": "b9e208dd-54bb-445c-bd98-be318de0f8a3",
   "metadata": {},
   "source": [
    "vairalbe [ Starting index : stop index : step ]"
   ]
  },
  {
   "cell_type": "code",
   "execution_count": null,
   "id": "07313f08-9de7-4e11-91c7-dba714eca808",
   "metadata": {},
   "outputs": [],
   "source": [
    "x = [1 , 2, 3 , 4 ]"
   ]
  },
  {
   "cell_type": "code",
   "execution_count": null,
   "id": "4e2d5b5d-2525-4bcc-bc52-9f0b96b249ec",
   "metadata": {},
   "outputs": [],
   "source": [
    "x[::2]"
   ]
  },
  {
   "cell_type": "markdown",
   "id": "b9327199-f13d-4b5e-a182-cf6384333f64",
   "metadata": {
    "jp-MarkdownHeadingCollapsed": true
   },
   "source": [
    "# Modifying list"
   ]
  },
  {
   "cell_type": "code",
   "execution_count": null,
   "id": "3fa892f8-2468-4b46-82f8-5cad8efc8710",
   "metadata": {},
   "outputs": [],
   "source": [
    "x .append(6) # adds at the end of the list"
   ]
  },
  {
   "cell_type": "code",
   "execution_count": null,
   "id": "b6ed11e9-ce9e-47d8-840a-3c8ed93fc8e1",
   "metadata": {},
   "outputs": [],
   "source": [
    "x.insert(2 , \"aaple\") #adds to the 2nd index of the list not deletes the current 2nd index"
   ]
  },
  {
   "cell_type": "code",
   "execution_count": null,
   "id": "26a51a7f-9ef4-4621-a6ec-8c454236ef12",
   "metadata": {},
   "outputs": [],
   "source": [
    "x.remove(\"aaple\")"
   ]
  },
  {
   "cell_type": "code",
   "execution_count": null,
   "id": "b4e724f8-2854-4a6d-ae98-84fa51c1e702",
   "metadata": {},
   "outputs": [],
   "source": [
    "x"
   ]
  },
  {
   "cell_type": "code",
   "execution_count": null,
   "id": "efa4d248-2ab2-4e39-b2c3-0fd70bc15abf",
   "metadata": {},
   "outputs": [],
   "source": [
    "x.pop(2) # remove functions uses the values inside where pop removies by index\n",
    "print(x)"
   ]
  },
  {
   "cell_type": "code",
   "execution_count": null,
   "id": "6126f4dc-b20c-4aa5-9b24-08dedd6d9597",
   "metadata": {},
   "outputs": [],
   "source": [
    "x = [1,2,3,4,5,6,7,8,1,1,1,1,1,1,1,1,1,1,1,1]"
   ]
  },
  {
   "cell_type": "code",
   "execution_count": null,
   "id": "7414a8a3-8bbf-4858-821a-93243fd39d2f",
   "metadata": {},
   "outputs": [],
   "source": [
    "x.count(1)"
   ]
  },
  {
   "cell_type": "code",
   "execution_count": null,
   "id": "4e91dc04-10b9-44a9-b9c9-9327cf11c1ad",
   "metadata": {},
   "outputs": [],
   "source": [
    "x.sort()\n",
    "print(x)"
   ]
  },
  {
   "cell_type": "code",
   "execution_count": null,
   "id": "66e7ec3f-5024-47bc-8ad2-9c1b55965a58",
   "metadata": {},
   "outputs": [],
   "source": [
    "x.sort(reverse = True )\n",
    "print(x)"
   ]
  },
  {
   "cell_type": "code",
   "execution_count": null,
   "id": "74f1d5b7-1968-4057-a4bc-3b1d1dcc7416",
   "metadata": {},
   "outputs": [],
   "source": [
    "x.index(5) # returns the index of the first index of the value that it finds from the left to the right"
   ]
  },
  {
   "cell_type": "markdown",
   "id": "9554942f-c8bf-4af8-9050-523509a4fd00",
   "metadata": {
    "jp-MarkdownHeadingCollapsed": true
   },
   "source": [
    "# Tuple"
   ]
  },
  {
   "cell_type": "markdown",
   "id": "c2ff8d42-328e-4722-b2b7-71e59b59f881",
   "metadata": {},
   "source": [
    "## Creating a tuple elements \n",
    "they are immutable"
   ]
  },
  {
   "cell_type": "code",
   "execution_count": null,
   "id": "ba3e0711-bd5f-42a9-880a-4a2625944427",
   "metadata": {},
   "outputs": [],
   "source": [
    "tuple = (1,2,3,4)"
   ]
  },
  {
   "cell_type": "code",
   "execution_count": null,
   "id": "46d7209e-b8e4-434a-9183-07a007af606d",
   "metadata": {},
   "outputs": [],
   "source": [
    "tuple"
   ]
  },
  {
   "cell_type": "markdown",
   "id": "5fc1335b-ea08-414e-a9e0-7a6264e0c0c4",
   "metadata": {},
   "source": [
    " Once created, you cannot modify the contents of a tuple. this means that you cannot add or remove "
   ]
  },
  {
   "cell_type": "code",
   "execution_count": null,
   "id": "ec2b8c61-64b7-43a5-83e0-ea572fc17e62",
   "metadata": {},
   "outputs": [],
   "source": [
    "x = 1,2,3,4,5  \n",
    "# if no brackets are given to specify the type of data structure, tuple or list or etc, it automatically assigs it to a tuple\n",
    "print(type(x))"
   ]
  },
  {
   "cell_type": "code",
   "execution_count": null,
   "id": "164579e0-feff-4162-ba9e-41f910bf1d73",
   "metadata": {},
   "outputs": [],
   "source": [
    "print(sum(x))\n",
    "\n",
    "print(max(x))"
   ]
  },
  {
   "cell_type": "markdown",
   "id": "6ed09cda-cc85-4610-9bf6-7e87eecaeaa9",
   "metadata": {
    "jp-MarkdownHeadingCollapsed": true
   },
   "source": [
    "# Set Types"
   ]
  },
  {
   "cell_type": "markdown",
   "id": "e27f158c-6495-4fb9-b353-b479b5bce8af",
   "metadata": {},
   "source": [
    "Set are created ussing curly braces { } \n",
    "\n",
    "sets basically arranges all numbers automatically \\\n",
    "sets removes the duplicates \\\n",
    "sets does not have a way to index the elemets in the sets (not subscriptable) \\\n",
    "Form submissions where you want to discard duplicate submissions \\\n"
   ]
  },
  {
   "cell_type": "code",
   "execution_count": null,
   "id": "530cdfa2-0dd2-41e3-90d0-fbe7440169ba",
   "metadata": {},
   "outputs": [],
   "source": [
    "x = { 1 , 2, 3, 4}\n",
    "y = set([1,2,3,4,])\n",
    "print(x, y)\n",
    "print(type(x))\n",
    "print(type(y))"
   ]
  },
  {
   "cell_type": "code",
   "execution_count": null,
   "id": "55448134-62b5-4e04-8edb-08fecbb9828d",
   "metadata": {},
   "outputs": [],
   "source": [
    "x = { 1, 3 , 3, 24, 5, 6 }\n",
    "y = { 2, 4, 6, 8, 10 ,12 }"
   ]
  },
  {
   "cell_type": "code",
   "execution_count": null,
   "id": "1d141405-639f-4c3d-8e66-6899b0828a04",
   "metadata": {},
   "outputs": [],
   "source": [
    "x.add(7)\n",
    "print(x)"
   ]
  },
  {
   "cell_type": "markdown",
   "id": "c79f2703-5fce-452c-b45b-a44ead2c02ba",
   "metadata": {
    "jp-MarkdownHeadingCollapsed": true
   },
   "source": [
    "# Mapping type"
   ]
  },
  {
   "cell_type": "markdown",
   "id": "1480503a-dc75-45bb-ad2c-f24f901f79e9",
   "metadata": {},
   "source": [
    "## Dictionaries"
   ]
  },
  {
   "cell_type": "markdown",
   "id": "5edccc36-7437-48b8-bae2-e9c2327faa7c",
   "metadata": {},
   "source": [
    "{ \\\n",
    "    key : value,\\\n",
    "    key2 : value2,\\\n",
    "    key3 : value3\\\n",
    "}"
   ]
  },
  {
   "cell_type": "code",
   "execution_count": null,
   "id": "b8bfa518-9560-4bd1-97d7-d22c97c0a481",
   "metadata": {},
   "outputs": [],
   "source": [
    "person = {\n",
    "            \"name\" : \"BIjay\",\n",
    "            \"age\" : 30,\n",
    "            \"city\" : \"Kathmandu\"\n",
    "}"
   ]
  },
  {
   "cell_type": "code",
   "execution_count": null,
   "id": "ee8fa69e-bc7e-4e9f-a014-83fed71a4124",
   "metadata": {},
   "outputs": [],
   "source": [
    "print(person)"
   ]
  },
  {
   "cell_type": "code",
   "execution_count": null,
   "id": "8231eeac-8678-4c4a-974e-471ab9408f03",
   "metadata": {},
   "outputs": [],
   "source": [
    "person.keys()"
   ]
  },
  {
   "cell_type": "code",
   "execution_count": null,
   "id": "8eb430d7-ec49-4605-8553-bffd0784a234",
   "metadata": {},
   "outputs": [],
   "source": [
    "print(person[\"name\"])"
   ]
  },
  {
   "cell_type": "code",
   "execution_count": null,
   "id": "83793c07-85d7-4584-9e20-3de52e432695",
   "metadata": {},
   "outputs": [],
   "source": [
    "del person[\"city\"]   # to delete the city of the dictionaries\n",
    "print(person)"
   ]
  },
  {
   "cell_type": "code",
   "execution_count": null,
   "id": "9ac5a695-31fe-4870-b406-b90492d7af5f",
   "metadata": {},
   "outputs": [],
   "source": [
    "person.pop(\"city\" , \"NYC\")  # if there is no key like the key city then it automatically gives the value NYC"
   ]
  },
  {
   "cell_type": "code",
   "execution_count": null,
   "id": "bdaf3fe7-73d8-4102-a3e1-9b7f7f6269d7",
   "metadata": {},
   "outputs": [],
   "source": [
    "print(person)"
   ]
  },
  {
   "cell_type": "code",
   "execution_count": null,
   "id": "d57469ae-89d2-47fd-9a63-cdbbf744293b",
   "metadata": {},
   "outputs": [],
   "source": [
    "person.clear()"
   ]
  },
  {
   "cell_type": "code",
   "execution_count": null,
   "id": "bda62e05-d836-4a89-aaea-6c506f8bc414",
   "metadata": {},
   "outputs": [],
   "source": [
    "person"
   ]
  },
  {
   "cell_type": "markdown",
   "id": "9914a0ed-15fb-4102-8045-5fd275f0dfa2",
   "metadata": {
    "jp-MarkdownHeadingCollapsed": true
   },
   "source": [
    "# Python Boolean Type"
   ]
  },
  {
   "cell_type": "code",
   "execution_count": null,
   "id": "aada2fd0-c575-4d5d-9cd2-501962b389a0",
   "metadata": {},
   "outputs": [],
   "source": [
    "x = 10\n",
    "y = 0\n",
    "\n",
    "s = \"hello\"\n",
    "t = \"\"\n",
    "y = \" \"\n",
    "\n",
    "lst = [1,2,3]\n",
    "empty_lst = []\n",
    "\n",
    "dct = {\"a\" : 1 , \"b\" : 2}\n",
    "empty_dct = {}\n",
    "\n",
    "obj = object()\n",
    "none_obj = None\n",
    "\n",
    "print(bool(t))\n",
    "\n",
    "print(bool(y))\n",
    "\n",
    "print(bool(empty_dct))\n",
    "\n",
    "print(type(empty_dct))\n",
    "\n"
   ]
  },
  {
   "cell_type": "markdown",
   "id": "dd9bb027-3fff-489c-a5a2-9053f108d664",
   "metadata": {
    "jp-MarkdownHeadingCollapsed": true
   },
   "source": [
    "# Python Binary type"
   ]
  },
  {
   "cell_type": "markdown",
   "id": "43b7ba30-5b0c-4293-84c1-ba6756e1756a",
   "metadata": {},
   "source": [
    "in python it represents using the bytes and bytearray type \\"
   ]
  },
  {
   "cell_type": "code",
   "execution_count": null,
   "id": "a127065d-305f-4b77-b6ec-a8895cf5a354",
   "metadata": {},
   "outputs": [],
   "source": [
    "b = bytes([0,1,2,3,4,5])"
   ]
  },
  {
   "cell_type": "code",
   "execution_count": null,
   "id": "331f4054-6ab7-4bf0-84b4-d6720413d5e4",
   "metadata": {},
   "outputs": [],
   "source": [
    "print(b)"
   ]
  },
  {
   "cell_type": "code",
   "execution_count": null,
   "id": "d8ca1027-8028-474d-a903-98a92e4d4df9",
   "metadata": {},
   "outputs": [],
   "source": [
    "b = bytearray([0,1,2,3,4,5])"
   ]
  },
  {
   "cell_type": "code",
   "execution_count": null,
   "id": "eeff0cac-d645-4706-b2a8-e4819e21fef3",
   "metadata": {},
   "outputs": [],
   "source": [
    "print(b)"
   ]
  },
  {
   "cell_type": "code",
   "execution_count": null,
   "id": "e28f8ff6-5540-4e55-bcb1-6372097eb6d6",
   "metadata": {},
   "outputs": [],
   "source": [
    "b.hex()"
   ]
  },
  {
   "cell_type": "markdown",
   "id": "72243052-afd5-4cfc-bea8-a92942dc90f1",
   "metadata": {},
   "source": [
    "Unicode encoder"
   ]
  },
  {
   "cell_type": "markdown",
   "id": "f1302ebc-7004-49c2-92fb-faf758b3ae90",
   "metadata": {
    "jp-MarkdownHeadingCollapsed": true
   },
   "source": [
    "# Conditional statement"
   ]
  },
  {
   "cell_type": "code",
   "execution_count": null,
   "id": "818719cd-e63a-44aa-811e-233bf5b28ad7",
   "metadata": {},
   "outputs": [],
   "source": [
    "x =5\n",
    "y = 10\n",
    "if x > 4 and x > 2 and y > 11 and x > 6:\n",
    "    print(\"Safe\")\n",
    "else:\n",
    "    print(\"not safe\")\n",
    "    x += 5\n",
    "    print(x)\n",
    "    "
   ]
  },
  {
   "cell_type": "code",
   "execution_count": null,
   "id": "59022a73-6cb7-4eb8-9522-9502d043eef8",
   "metadata": {},
   "outputs": [],
   "source": [
    "grade = float(input())\n",
    "\n",
    "if grade >= 80 and grade <= 100:\n",
    "    print(\"Grade A\")\n",
    "\n",
    "elif grade >= 60 and grade < 80:\n",
    "    print(\"Grade B\")\n",
    "\n",
    "elif  grade >= 40 and grade < 60:\n",
    "    print(\"Grade C\")\n",
    "\n",
    "elif grade < 40 and grade >= 0:\n",
    "    print(\"Grade D\")\n",
    "\n",
    "else:\n",
    "    print(\"Enter the correct range of grade\")"
   ]
  },
  {
   "cell_type": "markdown",
   "id": "68fa2b5d-2d91-47ff-838a-801ecaf0ad3f",
   "metadata": {},
   "source": [
    "# Looop statements in python"
   ]
  },
  {
   "cell_type": "code",
   "execution_count": 18,
   "id": "aec0a830-2611-4fbf-8a24-946013235880",
   "metadata": {},
   "outputs": [
    {
     "name": "stdout",
     "output_type": "stream",
     "text": [
      "apple\n",
      "banana\n",
      "cherry\n",
      "pineapple\n"
     ]
    }
   ],
   "source": [
    "fruits = [ 'apple', 'banana' , 'cherry', 'pineapple' ]\n",
    "\n",
    "for x in fruits:                                         #  used for anything that is in a sequence type like list , tuple or dicrt\n",
    "    print(x)"
   ]
  },
  {
   "cell_type": "code",
   "execution_count": 19,
   "id": "3670543a-4c48-409b-8038-30b44444798c",
   "metadata": {},
   "outputs": [
    {
     "name": "stdout",
     "output_type": "stream",
     "text": [
      "red apple\n",
      "big banana\n",
      "tasty cherry\n",
      "[0, 'apple']\n",
      "[1, 'banana']\n",
      "[2, 'cherry']\n",
      "[3, 'pineapple']\n"
     ]
    }
   ],
   "source": [
    "adj = ['red', 'big', 'tasty']\n",
    "for a,f in zip(adj,fruits):\n",
    "    print(a,f)\n",
    "\n",
    "for fruits in enumerate(fruits):\n",
    "    print(list(fruits))\n",
    "    "
   ]
  },
  {
   "cell_type": "code",
   "execution_count": null,
   "id": "db57081e-aac6-4f75-a02b-c3ce384b1884",
   "metadata": {},
   "outputs": [
    {
     "name": "stdout",
     "output_type": "stream",
     "text": [
      "\n",
      " * \n",
      " *  * \n",
      " *  *  * \n",
      " *  *  *  * \n",
      " *  *  *  *  * \n"
     ]
    }
   ],
   "source": [
    "number = int(input(\"Enter the number of lines of star you want to print: \"))\n",
    "for i in range(number+1):\n",
    "    print(\" * \" * i)"
   ]
  },
  {
   "cell_type": "code",
   "execution_count": null,
   "id": "99aef33c-a10b-40b3-bb23-6c2f716bc935",
   "metadata": {
    "scrolled": true
   },
   "outputs": [
    {
     "name": "stdout",
     "output_type": "stream",
     "text": [
      "*  *  *  *  *  *  \n",
      "*  *  *  *  *  \n",
      "*  *  *  *  \n",
      "*  *  *  \n",
      "*  *  \n",
      "*  \n"
     ]
    }
   ],
   "source": [
    "number = int(input(\"Enter the number of lines of star you want to print: \"))\n",
    "for i in range(number + 1 , 0 , -1):\n",
    "    for j in range(i):\n",
    "        print( \"* \" , end = \" \" )\n",
    "    print(\"\")"
   ]
  },
  {
   "cell_type": "code",
   "execution_count": 4,
   "id": "6d8b2ea7-8fe7-42f0-83b8-6a559437181a",
   "metadata": {},
   "outputs": [
    {
     "name": "stdout",
     "output_type": "stream",
     "text": [
      "Enter a number  1\n"
     ]
    },
    {
     "name": "stdout",
     "output_type": "stream",
     "text": [
      " 1 * 1 = 1 \n",
      " 1 * 2 = 2 \n",
      " 1 * 3 = 3 \n",
      " 1 * 4 = 4 \n",
      " 1 * 5 = 5 \n",
      " 1 * 6 = 6 \n",
      " 1 * 7 = 7 \n",
      " 1 * 8 = 8 \n",
      " 1 * 9 = 9 \n",
      " 1 * 10 = 10 \n"
     ]
    }
   ],
   "source": [
    "number = int(input(\"Enter a number \"))\n",
    "x = 1\n",
    "\n",
    "while x <= 10:\n",
    "    print(f\" {number} * {x} = {number * x} \")\n",
    "    x += 1"
   ]
  },
  {
   "cell_type": "code",
   "execution_count": null,
   "id": "36b89613-1638-4b69-bef1-3c693c3cf762",
   "metadata": {},
   "outputs": [
    {
     "name": "stdout",
     "output_type": "stream",
     "text": [
      "25\n"
     ]
    }
   ],
   "source": [
    "number  =  int(input(\"Enter a number \"))\n",
    "\n",
    "div = int((number / 10))\n",
    "\n",
    "rem = int(number % 10)\n",
    "\n",
    "print(div * rem)\n"
   ]
  },
  {
   "cell_type": "markdown",
   "id": "c75f680d-ebcb-4640-b55f-131e2774c959",
   "metadata": {
    "jp-MarkdownHeadingCollapsed": true
   },
   "source": [
    "# Python Compreshnsion"
   ]
  },
  {
   "cell_type": "markdown",
   "id": "248a9c4b-43a8-4742-bca9-7d8b0fc77ed1",
   "metadata": {
    "jp-MarkdownHeadingCollapsed": true
   },
   "source": [
    "## List comprehension\n",
    "\n",
    "    * is a concise way to create list.\n",
    "    * it provides a compact syntax for mapping a given iterable to a new list by applying a spectific expression to each element in the     \n",
    "     original iterable\n",
    "     * Can be used only for a list"
   ]
  },
  {
   "cell_type": "code",
   "execution_count": null,
   "id": "e07b33cf-32bf-4a47-aef3-57d80901eac9",
   "metadata": {},
   "outputs": [],
   "source": [
    "number  = [1, 2, 3, 4, 5]\n",
    "squared = []\n",
    "\n",
    "for each in number:\n",
    "    squared.append( each ** 2)\n",
    "\n",
    "print(squared)"
   ]
  },
  {
   "cell_type": "code",
   "execution_count": null,
   "id": "ba8f75dc-4938-426b-af0a-37335da536d5",
   "metadata": {},
   "outputs": [],
   "source": [
    "# Using List comprehension\n",
    "\n",
    "squared = [each ** 2 for each in number]\n",
    "print(squared)"
   ]
  },
  {
   "cell_type": "code",
   "execution_count": null,
   "id": "ad9b64fa-ea9c-484b-9f21-fce36a2a5f5c",
   "metadata": {},
   "outputs": [],
   "source": [
    "words = [ 'data', 'science', 'machine', 'learning']\n",
    "lenghts = [len(wo) for wo in words]\n",
    "print(lenghts)"
   ]
  },
  {
   "cell_type": "code",
   "execution_count": null,
   "id": "54652893-afe4-42c9-9f4f-73dc4bd1f4f9",
   "metadata": {},
   "outputs": [],
   "source": [
    "import math"
   ]
  },
  {
   "cell_type": "markdown",
   "id": "07fd4af5-6460-46d9-b9c7-2072a0ced945",
   "metadata": {},
   "source": [
    "---"
   ]
  },
  {
   "cell_type": "code",
   "execution_count": null,
   "id": "4367a3fb-3bd0-4113-98d0-71b93073fc52",
   "metadata": {},
   "outputs": [],
   "source": [
    "number = [-2 , -1, 0, 1, 2, 3, 4]\n",
    "\n",
    "positive_doubles = [double * 2 for double in number if double > 0]\n",
    "\n",
    "print(positive_doubles)"
   ]
  },
  {
   "cell_type": "markdown",
   "id": "a0bfba66-8f7c-4316-83b2-cba06798aade",
   "metadata": {},
   "source": [
    "---"
   ]
  },
  {
   "cell_type": "markdown",
   "id": "6d82d37c-b0f6-4d77-a6d6-850fe552e854",
   "metadata": {
    "jp-MarkdownHeadingCollapsed": true
   },
   "source": [
    "## Dictionary Comprehension"
   ]
  },
  {
   "cell_type": "markdown",
   "id": "1632b768-6a16-4c25-9405-bd8ec0b70c4c",
   "metadata": {},
   "source": [
    "```python\n",
    "\n",
    "    new_dict = { key_expression: value_expression for item in iterable if condition}\n",
    "\n",
    "```"
   ]
  },
  {
   "cell_type": "code",
   "execution_count": null,
   "id": "bf3120c1-1d19-477f-bac7-a6e1e0563e11",
   "metadata": {},
   "outputs": [],
   "source": [
    "words = [ 'data', 'science', 'machine', 'learning']\n",
    "new_dict = { data : len(data) for data in words}\n",
    "print(new_dict)"
   ]
  },
  {
   "cell_type": "code",
   "execution_count": null,
   "id": "64dfd746-14c5-48fa-834a-608e6e7814af",
   "metadata": {},
   "outputs": [],
   "source": [
    "words = [ 'data', 'science', 'machine', 'learning', ' Deep', 'Python']\n",
    "\n",
    "new_dict = { data : len(data) for data in words if len(data) > 4 }\n",
    "print(new_dict)\n",
    "print(type(new_dict))"
   ]
  },
  {
   "cell_type": "code",
   "execution_count": null,
   "id": "740242fa-64ec-4415-a234-5f75b2263bc6",
   "metadata": {},
   "outputs": [],
   "source": [
    "words = [ 'data', 'science', 'machine', 'learning', ' Deep', 'Python']\n",
    "\n",
    "new_dict = { data for data in words if len(data) > 4 }\n",
    "\n",
    "print(new_dict)\n",
    "print(type(new_dict))"
   ]
  },
  {
   "cell_type": "markdown",
   "id": "33793799-7a5e-4c8a-9920-d953e599165e",
   "metadata": {
    "jp-MarkdownHeadingCollapsed": true
   },
   "source": [
    "## Set Comprehension"
   ]
  },
  {
   "cell_type": "markdown",
   "id": "755b904b-3f31-431a-8058-d60da89ecf86",
   "metadata": {},
   "source": [
    "Same as dictionary comprehension but in the expression there is no key and values"
   ]
  },
  {
   "cell_type": "code",
   "execution_count": null,
   "id": "b836b229-8ea9-466e-bb11-179f52032058",
   "metadata": {},
   "outputs": [],
   "source": [
    "number = [-2 , -1, 0, 5, 2, 3, 4, 9,20,30]\n",
    "\n",
    "positive_doubles = {double * 2 for double in number if double > 0}\n",
    "\n",
    "print(positive_doubles)"
   ]
  },
  {
   "cell_type": "code",
   "execution_count": null,
   "id": "4119819d-a113-49ef-8b9e-54104405263d",
   "metadata": {},
   "outputs": [],
   "source": [
    "input_str = \"Hello, world!\"\n",
    "vowels = 'aeiou'\n",
    "vowels_cont = {vow for vow in input_str for vowel in vowels if vowel == vow}\n",
    "print(list(vowels_cont))"
   ]
  },
  {
   "cell_type": "code",
   "execution_count": null,
   "id": "593913b1-eeff-4509-9cf0-b65b36adeb31",
   "metadata": {},
   "outputs": [],
   "source": [
    "input_str = \"Hello, world!\"\n",
    "vowels = set('aeiou')\n",
    "vowels_cont = {vow for vow in input_str if vow in vowels}\n",
    "print(list(vowels_cont))"
   ]
  },
  {
   "cell_type": "code",
   "execution_count": null,
   "id": "37bbe776-94cd-424e-a078-919b0007ff01",
   "metadata": {},
   "outputs": [],
   "source": [
    "list = ('a','b')\n",
    "if 'a' in list:\n",
    "    print(\"OK\")"
   ]
  },
  {
   "cell_type": "code",
   "execution_count": null,
   "id": "053a9484-58a3-4510-8cfa-8777a5070ccf",
   "metadata": {},
   "outputs": [],
   "source": [
    "list = \"Bijay\"\n",
    "if 'a' in list:\n",
    "    print(\"OK\")"
   ]
  },
  {
   "cell_type": "code",
   "execution_count": null,
   "id": "04e35657-a92a-4b7e-a4c0-f3de61aa571f",
   "metadata": {},
   "outputs": [],
   "source": [
    "list = ['b','a','h','a']\n",
    "if 'a' in list:\n",
    "    print(\"OK\")"
   ]
  },
  {
   "cell_type": "markdown",
   "id": "c46c7101-10a4-49aa-853d-f07e54a52b69",
   "metadata": {
    "jp-MarkdownHeadingCollapsed": true
   },
   "source": [
    "# Python Functions:"
   ]
  },
  {
   "cell_type": "markdown",
   "id": "94ce3a35-bf32-4800-8d2e-19edaf3d7b5f",
   "metadata": {},
   "source": [
    "``` python\n",
    "\n",
    "Basic General Notation\n",
    "\n",
    "    def <function_name>(parameters):\n",
    "        do something\n",
    "\n",
    "        \n",
    "```"
   ]
  },
  {
   "cell_type": "code",
   "execution_count": null,
   "id": "0c4d727f-b546-4e84-bed4-cb5940b6088d",
   "metadata": {},
   "outputs": [],
   "source": [
    "file = open(\"asds.txt\",\"r\")\n",
    "print(file.read())                 # cannnot edit the content in the \"r\" mode need \"r+\" mode for this\n",
    "file.close()"
   ]
  },
  {
   "cell_type": "code",
   "execution_count": null,
   "id": "72b3a753-04be-4db5-b638-37bdf37f8025",
   "metadata": {},
   "outputs": [],
   "source": [
    "file = open(\"asds.txt\", \"w\")\n",
    "file.write(\"abijaykarki\") # cannot view the content in the \"w\" mode need \"w+\" mode to do this\n",
    "file.close()\n",
    "file = open(\"asds.txt\", \"r\")\n",
    "print(file.read())"
   ]
  },
  {
   "cell_type": "code",
   "execution_count": null,
   "id": "74cd1853-acf8-405f-9740-99ddf06c26f1",
   "metadata": {},
   "outputs": [],
   "source": [
    "# Dir() function is used to list all the attributed and methods of an object. It returns a sorted list of names in the given object."
   ]
  },
  {
   "cell_type": "code",
   "execution_count": null,
   "id": "1eedf420-fbd7-4205-bfc0-74e506f49d53",
   "metadata": {},
   "outputs": [],
   "source": [
    "x = \"hello\"\n",
    "print(dir(x))"
   ]
  },
  {
   "cell_type": "code",
   "execution_count": null,
   "id": "d6e84783-e693-408b-9295-0fd304996518",
   "metadata": {},
   "outputs": [],
   "source": [
    "# enumerate() is a function used to iterate over a sequence and return a sequence of tuples contaning the index and value of each\n"
   ]
  },
  {
   "cell_type": "code",
   "execution_count": null,
   "id": "8fb5738a-c8d8-43fa-b000-063bedddc960",
   "metadata": {},
   "outputs": [],
   "source": [
    "# zip() function he zip() function returns a zip object, which is an iterator of tuples where the first item in each passed\n",
    "#iterator is paired together, and then the second item in each passed iterator are paired together etc.\n",
    "\n",
    "a = (\"John\", \"Charles\", \"Mike\")\n",
    "b = (\"Jenny\", \"Christy\", \"Monica\", \"Vicky\")\n",
    "\n",
    "x = zip(a, b)\n",
    "print(x)"
   ]
  },
  {
   "cell_type": "code",
   "execution_count": null,
   "id": "8e6e04d6-5b54-4fb1-b8b3-8ac455526ef8",
   "metadata": {},
   "outputs": [],
   "source": [
    "def add_numbers(a,b):\n",
    "    sum = a + b\n",
    "    return sum\n",
    "\n",
    "result = add_numbers(3,5)\n",
    "print(result)"
   ]
  },
  {
   "cell_type": "code",
   "execution_count": null,
   "id": "f2c8332c-14d4-4905-a78e-d5ec186d0db3",
   "metadata": {},
   "outputs": [],
   "source": [
    "def greet(name, greerting = 'Hello'):\n",
    "    message = f'{greerting}, {name}!'\n",
    "    return message\n",
    "\n",
    "print(greet('bob'))"
   ]
  },
  {
   "cell_type": "markdown",
   "id": "4583d25c-1eb1-4b3f-82c0-b66db5fa4596",
   "metadata": {},
   "source": [
    "#### Functions in python can also a variable-length argument list. These are called *args and **kwargs\n",
    "### *args = Non keyword Arguments\n",
    "### **kwargs = Keyword Arguments\n",
    "* The arguments are passed as a tuple for args\n",
    "* The arguments are passed as a dictionary and these arguments make a dictionary inside function with name same as the parameter for kwargs\n",
    "* can use args or any other variable as long as there is one * infront of the variable if ** is present its kwargs.\n",
    "*  *args and **kwargs are special keyword which allows function to take variable length argument."
   ]
  },
  {
   "cell_type": "code",
   "execution_count": null,
   "id": "1444f3e3-56f6-4bef-af72-393847f61b98",
   "metadata": {},
   "outputs": [],
   "source": [
    "def print_arguments(*args,**kwargs):\n",
    "    \"\"\"\n",
    "    This is a function to learn if we write in this block when ever we call the function and press shift + tab then \n",
    "    it will show this part of the message as a docstring which will be easy to understand what the function does\n",
    "\n",
    "    \"\"\"\n",
    "    \n",
    "    print(\"Positional arguments:\")\n",
    "    for arg in args:\n",
    "        print(arg)\n",
    "\n",
    "    print(\"-\" * 30)\n",
    "\n",
    "    print(\"Keyword argument\")\n",
    "\n",
    "    for key, value in kwargs.items():\n",
    "        print(key, \"=\", value)\n",
    "\n"
   ]
  },
  {
   "cell_type": "code",
   "execution_count": null,
   "id": "9fbb37c9-31af-474e-af53-8802613b67b7",
   "metadata": {},
   "outputs": [],
   "source": [
    "print_arguments(1,'hello', 'ram', name = ' Alice', age = 30)"
   ]
  },
  {
   "cell_type": "code",
   "execution_count": null,
   "id": "153de6d9-d9ee-4ac0-ae6e-387aeec252fe",
   "metadata": {},
   "outputs": [],
   "source": [
    "\n",
    "from math import sqrt\n",
    "\n",
    "x = [1,3,4,5,6,8,22]\n",
    "\n",
    "num_count = len(x)\n",
    "\n",
    "def cal_mean(x):\n",
    "    num_sum = 0\n",
    "    \n",
    "    for mean in x:\n",
    "        num_sum = num_sum + mean\n",
    "    return num_sum/num_count\n",
    "    \n",
    "\n",
    "def std_deviation(x):\n",
    "    mean = cal_mean(x)\n",
    "    sum = 0\n",
    "    \n",
    "    for cal in x:\n",
    "        sum = sum + (abs(cal - mean))**2\n",
    "        \n",
    "    sd = sqrt((sum/num_count))\n",
    "    \n",
    "    print(sd)\n",
    "    \n",
    "std_deviation(x)\n",
    "        "
   ]
  },
  {
   "cell_type": "code",
   "execution_count": null,
   "id": "801c4161-6c10-4d79-944c-04a21607cada",
   "metadata": {},
   "outputs": [],
   "source": [
    "def area_cal(length , breadth, height):\n",
    "    \"\"\"\n",
    "    area_cal(length, breadth, height)\n",
    "    \n",
    "    \"\"\"\n",
    "    area = 2 * (length + breadth ) *height\n",
    "    return area\n",
    "\n",
    "print(area_cal(2,3,4))"
   ]
  },
  {
   "cell_type": "code",
   "execution_count": null,
   "id": "fd7c4ea0-e2f8-4ac6-80aa-4e5dca6c4fa2",
   "metadata": {},
   "outputs": [],
   "source": [
    "def describe_pet(**attrib):\n",
    "    for key, value in attrib.items():\n",
    "        print(key, \"=\", value)\n",
    "\n",
    "    \n",
    "describe_pet(name = \"Rex\", age = 5, type = \"dog\")"
   ]
  },
  {
   "cell_type": "markdown",
   "id": "3485db72-8739-44ef-8dff-c4ede62b0596",
   "metadata": {
    "jp-MarkdownHeadingCollapsed": true
   },
   "source": [
    "# Lambda Function"
   ]
  },
  {
   "cell_type": "code",
   "execution_count": null,
   "id": "07406021-ecb2-4b0b-ad43-acceb481f1e9",
   "metadata": {},
   "outputs": [],
   "source": [
    "sum = lambda a, b : a + b\n",
    "result = sum(3,5)\n",
    "print(result)"
   ]
  },
  {
   "cell_type": "code",
   "execution_count": null,
   "id": "db98cccd-2372-47de-9041-7fa3dcd7f804",
   "metadata": {},
   "outputs": [],
   "source": [
    "numbers = [1,2,3,4,5]\n",
    "squares = map(lambda x : x**2 , numbers)\n",
    "print(type(squares))"
   ]
  },
  {
   "cell_type": "markdown",
   "id": "f3978078-d4ec-4f6f-9153-a756fbbc09f7",
   "metadata": {
    "jp-MarkdownHeadingCollapsed": true
   },
   "source": [
    "# Object Oriented Programming"
   ]
  },
  {
   "cell_type": "markdown",
   "id": "c210bf73-2108-4b43-bbbd-3f0bee23ca38",
   "metadata": {},
   "source": [
    "## Classes and Objects in Python"
   ]
  },
  {
   "cell_type": "markdown",
   "id": "9c31e5bc-3554-43aa-8627-1354044049b0",
   "metadata": {},
   "source": [
    "* Class is something like a \"blueprint\" for creating objects.\n",
    "* A class is like a blueprint that defines what something is and What it can do\n",
    "* An object is the actual thing created based on that blueprint.\n",
    "* Class attributes are variables that are shared by all instances of a class.\n",
    "* They are defined directly within the class but outside of any methods.\n"
   ]
  },
  {
   "cell_type": "markdown",
   "id": "de82d297-bab3-4220-b9de-879a8bafbb05",
   "metadata": {},
   "source": [
    "``` python\n",
    "    class Function:\n",
    "        x = 5\n",
    "\n",
    "    x1 = Function()  # X1 is the object\n",
    "    print(x1)\n",
    "\n",
    "```\n"
   ]
  },
  {
   "cell_type": "markdown",
   "id": "d6e55d8b-8739-4c13-90c3-e34b842938dd",
   "metadata": {},
   "source": [
    "* To understand the meaning of classes we have to understand the built-in __init__() function.\n",
    "* \n",
    "All classes have a function called __init__(), which is always executed when the class is being initiate\n",
    "* Use the __init__() function to assign values to object properties, or other operations that are necessary to do when the object is being created:\n",
    "*  The __init__() function is called automatically every time the class is being used to create a new object.d."
   ]
  },
  {
   "cell_type": "markdown",
   "id": "f3704ce8-7984-4957-aca6-913b819af5e4",
   "metadata": {},
   "source": []
  },
  {
   "cell_type": "code",
   "execution_count": null,
   "id": "17367f44-4ee0-4fcd-a675-82952963c29f",
   "metadata": {},
   "outputs": [],
   "source": [
    "class Person:\n",
    "  def __init__(self, name, age):\n",
    "    self.name = name\n",
    "    self.age = age\n",
    "\n",
    "  def __str__(self):\n",
    "    return f\"{self.name} ({self.age})\"\n",
    "\n",
    "p1 = Person(\"John\", 36)\n",
    "\n",
    "print(p1)\n"
   ]
  },
  {
   "cell_type": "code",
   "execution_count": null,
   "id": "a011898a-ff5f-4d2d-934c-bab9a2cbda55",
   "metadata": {},
   "outputs": [],
   "source": []
  },
  {
   "cell_type": "code",
   "execution_count": null,
   "id": "e584404a-923b-4b37-968f-df5de5799d48",
   "metadata": {
    "scrolled": true
   },
   "outputs": [],
   "source": [
    "class calculator:\n",
    "    def __init__(self, num_1, num_2):\n",
    "        self.num_1 = num_1\n",
    "        self.num_2 = num_2\n",
    "    def add(self):\n",
    "        sum = self.num_1 + self.num_2\n",
    "        return sum\n",
    "    \n",
    "    def multiply(self):\n",
    "        mult = self.num_1 * self.num_2\n",
    "        return mult\n",
    "\n",
    "\n",
    "vrit_cal = calculator(10,5)\n",
    "print(vrit_cal.add())\n",
    "print(vrit_cal.multiply())"
   ]
  },
  {
   "cell_type": "markdown",
   "id": "e95e4be3-7d73-4799-937a-1f2f3fa0c4a4",
   "metadata": {
    "jp-MarkdownHeadingCollapsed": true
   },
   "source": [
    "# Method Overloading"
   ]
  },
  {
   "cell_type": "markdown",
   "id": "8d2f72d4-80ea-4fde-997c-5255a8957969",
   "metadata": {},
   "source": [
    "Mthod overloading is a concept in object oriended programming where a class can have multiple \n",
    "methods with the same name but with different parameters or argument types."
   ]
  },
  {
   "cell_type": "code",
   "execution_count": null,
   "id": "8dda6ead-ddf9-47a3-aade-ea3df774f965",
   "metadata": {},
   "outputs": [],
   "source": [
    "class Animal:\n",
    "    def __init__(self, name, age):\n",
    "        self.name = name\n",
    "        self.age = age\n",
    "\n",
    "    def intro(self):\n",
    "        print(f\"My name is {name}. And I am {age} years old! \")\n",
    "\n",
    "\n",
    "class cat(Animal):\n",
    "    def __init__(self, name, age, color):\n",
    "        super().__init__(name, age)\n",
    "        self.color = color\n",
    "\n",
    "    def speak(self):\n",
    "        print(\"Meow!\")\n",
    "\n",
    "my_cat = cat(\"Fluffy\", 3, \"Gray\")"
   ]
  },
  {
   "cell_type": "code",
   "execution_count": null,
   "id": "26618695-65a6-417f-b269-4ae5750386a5",
   "metadata": {},
   "outputs": [],
   "source": [
    "my_cat.name"
   ]
  },
  {
   "cell_type": "code",
   "execution_count": null,
   "id": "74c4bd82-89d3-4435-89c7-b235f5b86991",
   "metadata": {},
   "outputs": [],
   "source": [
    "my_cat.speak"
   ]
  },
  {
   "cell_type": "markdown",
   "id": "ea2abba3-400c-42f9-a97c-54cac3aa3aa9",
   "metadata": {
    "jp-MarkdownHeadingCollapsed": true
   },
   "source": [
    "# Inheritance\n"
   ]
  },
  {
   "cell_type": "code",
   "execution_count": null,
   "id": "aecd5291-00c2-407a-a7f9-b765a20cdf3e",
   "metadata": {},
   "outputs": [],
   "source": [
    "  \n",
    "# A Python program to demonstrate inheritance\n",
    "class Person(object):\n",
    "   \n",
    "  # Constructor\n",
    "  def __init__(self, name, id):\n",
    "    self.name = name\n",
    "    self.id = id\n",
    " \n",
    "  # To check if this person is an employee\n",
    "  def Display(self):\n",
    "    print(self.name, self.id)\n",
    " \n",
    " \n",
    "# Driver code\n",
    "emp = Person(\"Satyam\", 102) # An Object of Person\n",
    "emp.Display()"
   ]
  },
  {
   "cell_type": "code",
   "execution_count": null,
   "id": "15461771-da85-4c3f-9c9e-d11da9435d48",
   "metadata": {},
   "outputs": [],
   "source": [
    "   \n",
    "class Emp(Person):\n",
    "   \n",
    "  def Print(self):\n",
    "    print(\"Emp class called\")\n",
    "     \n",
    "Emp_details = Emp(\"Mayank\", 103)\n",
    " \n",
    "# calling parent class function\n",
    "Emp_details.Display()\n",
    " "
   ]
  },
  {
   "cell_type": "markdown",
   "id": "8b520935-f484-4ab3-91f6-6e0f788d09bc",
   "metadata": {},
   "source": [
    " Look again at Multilevel inheritence, Hybrid Inheritence"
   ]
  },
  {
   "cell_type": "markdown",
   "id": "fbcbc9a2-5288-4d24-befe-00f2012598b7",
   "metadata": {
    "jp-MarkdownHeadingCollapsed": true
   },
   "source": [
    "# Fibonacci series"
   ]
  },
  {
   "cell_type": "code",
   "execution_count": null,
   "id": "fb17a873-adc4-42b6-8199-6384b1c694b8",
   "metadata": {},
   "outputs": [],
   "source": [
    "def fibonacci(n):\n",
    "    if n == 0:\n",
    "        return 0\n",
    "    elif n == 1:\n",
    "        return 1\n",
    "    else:\n",
    "        return fibonacci(n-1) + fibonacci(n-2)\n",
    "\n",
    "result = fibonacci(11)\n",
    "\n",
    "print(result)\n"
   ]
  },
  {
   "cell_type": "code",
   "execution_count": null,
   "id": "96782b5a-d2c9-4e60-a021-0fb0e3224b12",
   "metadata": {},
   "outputs": [],
   "source": []
  },
  {
   "cell_type": "markdown",
   "id": "ab05f9dd-8a8f-467c-a0b0-bd41306f4682",
   "metadata": {
    "jp-MarkdownHeadingCollapsed": true
   },
   "source": [
    "# Modules and packages"
   ]
  },
  {
   "cell_type": "markdown",
   "id": "076d5bf1-6723-462a-a4aa-80b0e3e207de",
   "metadata": {},
   "source": [
    "A module is a file contaning python definiutions and statements which can be used in other python scripts."
   ]
  },
  {
   "cell_type": "markdown",
   "id": "09f201c2-461f-4da4-aa8e-2b5052ae609b",
   "metadata": {},
   "source": [
    "can be used using import keyword\n",
    "* datetime\n",
    "* time\n",
    "* calender"
   ]
  },
  {
   "cell_type": "code",
   "execution_count": null,
   "id": "6cbf0bc8-af8d-4390-897f-f9f28058bc3f",
   "metadata": {},
   "outputs": [],
   "source": [
    "# date time module\n",
    "\n",
    "import datetime\n",
    "\n",
    "# creating a date object\n",
    "date = datetime.date(2024,2,26)\n",
    "# date is not a integer or string or else now it is a datetime object\n",
    "print(type(date))\n",
    "print(date)"
   ]
  },
  {
   "cell_type": "code",
   "execution_count": null,
   "id": "86394015-218e-41ca-a704-d8c0ba14232e",
   "metadata": {},
   "outputs": [],
   "source": [
    "print(datetime.time(10,15,10))"
   ]
  },
  {
   "cell_type": "code",
   "execution_count": null,
   "id": "5dcb5489-d234-418b-8bd0-3a853f61f20a",
   "metadata": {},
   "outputs": [],
   "source": [
    "date = datetime.timedelta(days = 4, hours = 10,minutes = 10 , seconds = 10)\n",
    "print(date)"
   ]
  },
  {
   "cell_type": "code",
   "execution_count": null,
   "id": "eb0545d8-fb14-424b-8655-69eb855180ad",
   "metadata": {},
   "outputs": [],
   "source": [
    "import calendar"
   ]
  },
  {
   "cell_type": "code",
   "execution_count": null,
   "id": "d3202a9e-19af-48ca-bfe6-cef376c3d2e1",
   "metadata": {},
   "outputs": [],
   "source": [
    "cal = calendar.calendar(2023)"
   ]
  },
  {
   "cell_type": "code",
   "execution_count": null,
   "id": "d483bf6a-8c85-43fe-9176-9f97a216e167",
   "metadata": {},
   "outputs": [],
   "source": [
    "calendar.EPOCH"
   ]
  },
  {
   "cell_type": "markdown",
   "id": "d6fa90f7-6677-4be1-ad62-36b05c1a6fce",
   "metadata": {
    "jp-MarkdownHeadingCollapsed": true
   },
   "source": [
    "# zip function"
   ]
  },
  {
   "cell_type": "code",
   "execution_count": null,
   "id": "21395576-2484-4271-8aaa-c286ca0ddc4b",
   "metadata": {},
   "outputs": [],
   "source": [
    "list1 = [1,2,3,4]\n",
    "list2 = [3,4,5]"
   ]
  },
  {
   "cell_type": "code",
   "execution_count": null,
   "id": "1791a2be-1688-4646-a2ba-b989554aee9d",
   "metadata": {},
   "outputs": [],
   "source": [
    "print(list(zip(list1,list2)))"
   ]
  },
  {
   "cell_type": "markdown",
   "id": "cda8bbd8-0859-4e0e-8d7b-49fdfe521220",
   "metadata": {
    "jp-MarkdownHeadingCollapsed": true
   },
   "source": [
    "# Map function"
   ]
  },
  {
   "cell_type": "markdown",
   "id": "5fb06fd4-c3e9-407b-8c50-bd3bcbeb757b",
   "metadata": {},
   "source": [
    "Map function is  a python applies a given function to each item of iterables"
   ]
  },
  {
   "cell_type": "code",
   "execution_count": null,
   "id": "dc4a29c9-6962-49ba-b748-a9fee6708fd0",
   "metadata": {},
   "outputs": [],
   "source": [
    "def mult(x):\n",
    "    return x * 2"
   ]
  },
  {
   "cell_type": "code",
   "execution_count": null,
   "id": "7d021ab7-3aaa-4130-9753-b816a017987e",
   "metadata": {},
   "outputs": [],
   "source": [
    "double = list(map(mult, list1))"
   ]
  },
  {
   "cell_type": "code",
   "execution_count": null,
   "id": "d2611e19-575a-41e8-9123-e175790fc18c",
   "metadata": {},
   "outputs": [],
   "source": [
    "print(double)"
   ]
  },
  {
   "cell_type": "code",
   "execution_count": null,
   "id": "d2a4dbe1-7718-4add-ad96-7ca6603e4165",
   "metadata": {},
   "outputs": [],
   "source": [
    "double = list(map(lambda x : x * 2, list1))"
   ]
  },
  {
   "cell_type": "code",
   "execution_count": null,
   "id": "bfc40be2-ecf8-410b-bd04-9da107f19022",
   "metadata": {},
   "outputs": [],
   "source": [
    "print(double)"
   ]
  },
  {
   "cell_type": "code",
   "execution_count": null,
   "id": "f7bc47ad-a5e2-4024-bd3e-6ef0b1248eae",
   "metadata": {},
   "outputs": [],
   "source": [
    "from functools import reduce\n",
    "import time\n",
    "\n",
    "start = time.time()\n",
    "list = range(1,1000001)\n",
    "result = reduce(lambda x, y: x + y, list)\n",
    "end = time.time()\n",
    "print(f'The required time to execute the code is {end-start}')\n",
    "print(f'The sum is {result}')\n",
    "\n"
   ]
  },
  {
   "cell_type": "code",
   "execution_count": null,
   "id": "c0965aff-e585-408b-be9c-121ad69a2ef6",
   "metadata": {},
   "outputs": [],
   "source": [
    "start = time.time()\n",
    "sum = 0\n",
    "for i in range(1000001):\n",
    "    sum += i\n",
    "print(sum)\n",
    "end = time.time()\n",
    "print(end-start)"
   ]
  },
  {
   "cell_type": "code",
   "execution_count": null,
   "id": "c0a5f82e-f310-4a7a-9166-75e8f1bd7633",
   "metadata": {},
   "outputs": [],
   "source": [
    "math.pi"
   ]
  },
  {
   "cell_type": "code",
   "execution_count": null,
   "id": "5fb6d95e-55b3-4c55-bdea-36e08976130d",
   "metadata": {},
   "outputs": [],
   "source": [
    "import random"
   ]
  },
  {
   "cell_type": "code",
   "execution_count": null,
   "id": "80c0d5e0-14c0-4f98-b050-8aee53f24f36",
   "metadata": {},
   "outputs": [],
   "source": [
    "random.random() # returns a random float between 0 and 1"
   ]
  },
  {
   "cell_type": "code",
   "execution_count": null,
   "id": "9cfc4ccd-7b18-4185-9f41-351b83d81d3c",
   "metadata": {},
   "outputs": [],
   "source": [
    "random.randint(1,1000) # returns a integer between a and b"
   ]
  },
  {
   "cell_type": "code",
   "execution_count": null,
   "id": "a6c37dbb-61f5-41ef-ae76-653066d0a2c6",
   "metadata": {},
   "outputs": [],
   "source": [
    "random.choice(list1) # returns a random value within a sequence"
   ]
  },
  {
   "cell_type": "markdown",
   "id": "c9392182-dd62-4d2f-b976-4fa381928f10",
   "metadata": {},
   "source": [
    "weight lagaera choices ni garna milxa, suppose eauta card ko chahi choice chahi 20% banauna ni milxa \n",
    "sir ko example ma heer bhai"
   ]
  },
  {
   "cell_type": "code",
   "execution_count": null,
   "id": "5f9bc715-e13d-4d48-b7c4-fe160ae1a9d1",
   "metadata": {},
   "outputs": [],
   "source": [
    "print(random.gauss(5,0.7)) # returns a random number in gaussian distribution with mean 5 and standard deviation 0.7"
   ]
  },
  {
   "cell_type": "markdown",
   "id": "bd255ae5-d6c8-443f-91ba-025679666fb6",
   "metadata": {
    "jp-MarkdownHeadingCollapsed": true
   },
   "source": [
    "# Permutation and combination"
   ]
  },
  {
   "cell_type": "code",
   "execution_count": null,
   "id": "77a46b43-da56-4112-b1d3-b529bb39fdbb",
   "metadata": {},
   "outputs": [],
   "source": [
    "from itertools import permutations, combinations"
   ]
  },
  {
   "cell_type": "code",
   "execution_count": null,
   "id": "f6ef9096-9312-47fa-9ce9-578b6c8a1486",
   "metadata": {},
   "outputs": [],
   "source": [
    "names = ['jerry', 'laary', 'perry', 'cherry']"
   ]
  },
  {
   "cell_type": "code",
   "execution_count": null,
   "id": "8516c87d-4b0b-4cdc-96b7-9a8df8ef3bed",
   "metadata": {},
   "outputs": [],
   "source": [
    "permutations.mro"
   ]
  },
  {
   "cell_type": "markdown",
   "id": "7ba28b49-4b1a-4d0f-83e2-05d156ff83b3",
   "metadata": {
    "jp-MarkdownHeadingCollapsed": true
   },
   "source": [
    "# Exception Handling"
   ]
  },
  {
   "cell_type": "markdown",
   "id": "d164c127-6e93-4e9d-9437-2d96275fda37",
   "metadata": {},
   "source": [
    "We can use a try-except block to catch exception which follows  the following syntax"
   ]
  },
  {
   "cell_type": "markdown",
   "id": "eafec7a5-46b7-4ce1-ba10-461a20141293",
   "metadata": {},
   "source": [
    "```python\n",
    "        try:\n",
    "            # code that may rise an exception\n",
    "            except Exceptiontype:\n",
    "                "
   ]
  },
  {
   "cell_type": "code",
   "execution_count": null,
   "id": "b895480c-5a63-4a1b-92d3-3435bb85073a",
   "metadata": {},
   "outputs": [],
   "source": [
    "try:\n",
    "    num = int(input(\"Enter a number:\"))\n",
    "    print(num)\n",
    "\n",
    "except ValueError:\n",
    "    print(\"Invalid input, You should enter a number\")"
   ]
  },
  {
   "cell_type": "code",
   "execution_count": null,
   "id": "e7b060ad-c3ec-4377-af53-68843293d634",
   "metadata": {},
   "outputs": [],
   "source": [
    "try:\n",
    "    # cdode that may raise an exception\n",
    "    num = int(input(\"Enter a number:\"))\n",
    "    \n",
    "    print(num)\n",
    "\n",
    "except ValueError:\n",
    "    # code to handle ExceptionType1\n",
    "    print(\"Pplau\")\n",
    "    \n",
    "except ExceptionType2:\n",
    "     print(\"Pplaasdasdu\")\n",
    "    # code to handle Exception\n"
   ]
  },
  {
   "cell_type": "markdown",
   "id": "00526fae-998e-425a-a9ee-f6b42dd7e30d",
   "metadata": {},
   "source": [
    "If you dont know what error it is like valueroor or typeError, then we use Exception"
   ]
  },
  {
   "cell_type": "code",
   "execution_count": null,
   "id": "78228665-d395-406a-8599-421a900d622f",
   "metadata": {},
   "outputs": [],
   "source": [
    "from IPython.display import clear_output\n",
    "import time\n",
    "\n",
    "def inpuas():\n",
    "    \n",
    "    try:\n",
    "        num_str = input(\"Enter a number: \")\n",
    "        num = int(num_str)\n",
    "        print(num)\n",
    "        \n",
    "    except Exception as ex:\n",
    "        print(ex)\n",
    "        print(\"Error Has Occured, Enter the value again\")\n",
    "        # Example usage:\n",
    "        time.sleep(2)\n",
    "        clear_output()\n",
    "        inpuas()\n",
    "\n",
    "inpuas()\n"
   ]
  },
  {
   "cell_type": "markdown",
   "id": "20857d69-078b-4002-b4a0-bd2506f35731",
   "metadata": {},
   "source": [
    "Try, except, else and finally block ni xa exceptional handilling ko lagi\n"
   ]
  },
  {
   "cell_type": "code",
   "execution_count": 8,
   "id": "5b334de1-d419-4bc7-b358-949a95d4c9e1",
   "metadata": {},
   "outputs": [
    {
     "name": "stdout",
     "output_type": "stream",
     "text": [
      "Error, Index out of bounds\n",
      "2\n"
     ]
    }
   ],
   "source": [
    "import random\n",
    "\n",
    "def safe_list_get(list, index):\n",
    "    try:\n",
    "        return list[index]\n",
    "\n",
    "    except IndexError:\n",
    "        print(\"Error, Index out of bounds\")\n",
    "        return random.randint(0,10)\n",
    "        \n",
    "list = [1,2,3,4]\n",
    "index = 7\n",
    "\n",
    "print(safe_list_get(list,index))\n"
   ]
  },
  {
   "cell_type": "markdown",
   "id": "f99a5f8e-c453-4a48-ac29-ac403f26cef5",
   "metadata": {
    "jp-MarkdownHeadingCollapsed": true
   },
   "source": [
    "# Python raise Statement"
   ]
  },
  {
   "cell_type": "markdown",
   "id": "d4498557-bbb0-4317-97e1-1ab2e0dbd35e",
   "metadata": {},
   "source": [
    "\n",
    "The raise statement in Python is used to raise exceptions intentionally. This allows you to indicate that an error or exceptional condition has occurred in your code. You can use the raise statement with or without specifying an exception type and an optional error message."
   ]
  },
  {
   "cell_type": "markdown",
   "id": "1b6f7013-254c-4d0a-ba05-4fd0885b75f5",
   "metadata": {
    "jp-MarkdownHeadingCollapsed": true
   },
   "source": [
    "# Python assert Statement"
   ]
  },
  {
   "cell_type": "markdown",
   "id": "bcbb86be-3a23-438a-9bef-9e47dac98598",
   "metadata": {},
   "source": [
    "\n",
    "In Python, the assert statement is used as a debugging aid\n",
    "*\n",
    "*  It allows you to place assertions in your code to check for conditions that should be true at that point\n",
    "* . If the condition specified in the assert statement evaluates to False, an AssertionError exception is raised."
   ]
  },
  {
   "cell_type": "markdown",
   "id": "5bf7dcc1-2f53-4985-81c7-803944c7ae70",
   "metadata": {},
   "source": [
    "# Advance Python"
   ]
  },
  {
   "cell_type": "markdown",
   "id": "55d03b4a-01e4-4d99-a38c-64b22b03022e",
   "metadata": {
    "jp-MarkdownHeadingCollapsed": true
   },
   "source": [
    "## Python Decorators"
   ]
  },
  {
   "cell_type": "markdown",
   "id": "0d623d81-7949-41b4-8a4e-c576d8da318d",
   "metadata": {},
   "source": [
    "* Decorator is a special kind of function that can be used to modify the behavior of another function.\n",
    "* Decorators are indicated by the symbol \"@\" followed by the name of the decorator function\n",
    "*  it allows programmers to modify the behaviour of a function or class"
   ]
  },
  {
   "cell_type": "code",
   "execution_count": 1,
   "id": "aa4084a9-e3f1-4786-9423-261f6978e449",
   "metadata": {},
   "outputs": [
    {
     "data": {
      "text/plain": [
       "<function __main__.my_decorator.<locals>.wrapper()>"
      ]
     },
     "execution_count": 1,
     "metadata": {},
     "output_type": "execute_result"
    }
   ],
   "source": [
    "def my_decorator(func):\n",
    "    def wrapper():\n",
    "        print(\"Before function execution\")\n",
    "        func()\n",
    "        print(\"After function execution\")\n",
    "    return wrapper\n",
    "\n",
    "@my_decorator\n",
    "def say_hello():\n",
    "    print(\"Hello world\")\n",
    "\n",
    "say_hello"
   ]
  },
  {
   "cell_type": "code",
   "execution_count": 5,
   "id": "6d7cd03e-4209-4b88-a7b2-1e767660b69f",
   "metadata": {},
   "outputs": [
    {
     "name": "stdout",
     "output_type": "stream",
     "text": [
      "It will run 3 times\n",
      "Alice\n",
      "Alice\n",
      "Alice\n"
     ]
    }
   ],
   "source": [
    "def repeat(n):\n",
    "\n",
    "    def decorator(func):\n",
    "\n",
    "        def wrapper(*args, **kwargs):\n",
    "\n",
    "            print(f\"It will run {n} times\")\n",
    "            \n",
    "            for i in range(n):\n",
    "                func(*args, **kwargs)\n",
    "        return wrapper\n",
    "    return decorator\n",
    "\n",
    "@repeat(3)\n",
    "def say_hello(name):\n",
    "    print(name)\n",
    "\n",
    "say_hello(\"Alice\")"
   ]
  },
  {
   "cell_type": "code",
   "execution_count": 1,
   "id": "8a54247b-50f7-4713-9d06-3ebae88bbccb",
   "metadata": {},
   "outputs": [
    {
     "name": "stdout",
     "output_type": "stream",
     "text": [
      "Accessing DB..\n",
      "Logged in successfully\n"
     ]
    }
   ],
   "source": [
    "def validate_email(func):\n",
    "    def wrapper(email):\n",
    "        if email.endswith('@gmail.com'):\n",
    "            func(email)  # Pass the email argument to the original function\n",
    "        else:\n",
    "            print(\"We only support email from Google\")\n",
    "\n",
    "    return wrapper\n",
    "\n",
    "@validate_email\n",
    "def user_login(email):\n",
    "    print(\"Accessing DB..\")\n",
    "    print(\"Logged in successfully\")\n",
    "\n",
    "user_login(\"bijaykarki@gmail.com\")\n"
   ]
  },
  {
   "cell_type": "markdown",
   "id": "9fc0aa0f-109b-42f5-ac71-1db09570f101",
   "metadata": {},
   "source": [
    "* In python the function can be assigned to a variable:\n",
    "* passed as arguments to other functions, and returned as values from other functions."
   ]
  },
  {
   "cell_type": "code",
   "execution_count": 2,
   "id": "a89715f6-256b-4b45-ae4a-b03cca2d7192",
   "metadata": {},
   "outputs": [
    {
     "name": "stdout",
     "output_type": "stream",
     "text": [
      "HELLO\n",
      "HELLO\n"
     ]
    }
   ],
   "source": [
    "# Python program to illustrate functions \n",
    "# can be treated as objects \n",
    "def shout(text): \n",
    "    return text.upper() \n",
    " \n",
    "print(shout('Hello')) \n",
    " \n",
    "yell = shout \n",
    " \n",
    "print(yell('Hello')) "
   ]
  },
  {
   "cell_type": "code",
   "execution_count": 2,
   "id": "5251d333-dd3d-4eab-a7c1-2e82856e08b4",
   "metadata": {},
   "outputs": [
    {
     "name": "stdout",
     "output_type": "stream",
     "text": [
      "CPU times: total: 0 ns\n",
      "Wall time: 0 ns\n",
      "HI, I AM CREATED BY A FUNCTION PASSED AS AN ARGUMENT.\n",
      "hi, i am created by a function passed as an argument.\n"
     ]
    }
   ],
   "source": [
    "%time \n",
    "\n",
    "# Python program to illustrate functions \n",
    "# can be passed as arguments to other functions \n",
    "# here the greet is a function and we are passing the shout function in it\n",
    "def shout(text): \n",
    "    return text.upper() \n",
    " \n",
    "def whisper(text): \n",
    "    return text.lower() \n",
    " \n",
    "def greet(func): \n",
    "    # storing the function in a variable \n",
    "    greeting = func(\"\"\"Hi, I am created by a function passed as an argument.\"\"\") \n",
    "    print (greeting) \n",
    " \n",
    "greet(shout) \n",
    "greet(whisper) "
   ]
  },
  {
   "cell_type": "code",
   "execution_count": 1,
   "id": "b614134c-5713-4bc5-bcda-ecc1c27a9d5b",
   "metadata": {},
   "outputs": [
    {
     "name": "stdout",
     "output_type": "stream",
     "text": [
      "25\n"
     ]
    }
   ],
   "source": [
    "# Python program to illustrate functions \n",
    "# Functions can return another function \n",
    "# In ther code you can see that the first variable add_15 call the function create_adder(15) and inside\n",
    "# it returns the function adder(y), while returning the adder function, the value of x is set top 15\n",
    "# then the add_15 behaves like the adder(y) function and send the value 10 to the adder function\n",
    "# and the value of y is no 10 and it returns the sum of x + y \n",
    "def create_adder(x): \n",
    "    def adder(y): \n",
    "        return x+y \n",
    " \n",
    "    return adder \n",
    " \n",
    "add_15 = create_adder(15) \n",
    " \n",
    "print(add_15(10)) "
   ]
  },
  {
   "cell_type": "code",
   "execution_count": 2,
   "id": "228a2713-d750-470d-87e1-05968a9f9bfe",
   "metadata": {},
   "outputs": [],
   "source": [
    "# @function() is called a callable function\n"
   ]
  },
  {
   "cell_type": "markdown",
   "id": "8a55f3cc-0b93-4b0e-b321-657d5d05ae99",
   "metadata": {},
   "source": [
    "## Regex pattern finding"
   ]
  },
  {
   "cell_type": "code",
   "execution_count": 1,
   "id": "0396eaf9-681c-4001-9ade-e03a0fcb76ff",
   "metadata": {},
   "outputs": [
    {
     "name": "stdout",
     "output_type": "stream",
     "text": [
      "CPU times: total: 0 ns\n",
      "Wall time: 0 ns\n",
      "True\n",
      "True\n"
     ]
    }
   ],
   "source": [
    "\n",
    "import re\n",
    "\n",
    "string = \"The quice brown fox jumps over the lazy dog.\"\n",
    "pattern = r\"he\"\n",
    "match = re.search(pattern,string)\n",
    "\n",
    "print(pattern in string)\n",
    "print(bool(re.search(pattern,string)))"
   ]
  },
  {
   "cell_type": "code",
   "execution_count": 4,
   "id": "dcd5829b-0949-4e16-8718-d3ecaa6cf30b",
   "metadata": {},
   "outputs": [
    {
     "name": "stdout",
     "output_type": "stream",
     "text": [
      "Match Object: <re.Match object; span=(1, 3), match='he'>\n",
      "Match Object: he\n",
      "Match span (1, 3)\n"
     ]
    }
   ],
   "source": [
    "if match:\n",
    "    print(\"Match Object:\", match)\n",
    "    print(\"Match Object:\", match.group())\n",
    "    print(\"Match span\", match.span())"
   ]
  },
  {
   "cell_type": "code",
   "execution_count": 5,
   "id": "311fbbe2-522f-4aa4-9173-711aaaea125e",
   "metadata": {},
   "outputs": [],
   "source": [
    "# use map() function for faster calculation too seek into the itterables to get the data faster for larger data points"
   ]
  },
  {
   "cell_type": "markdown",
   "id": "a098e91e-65dc-4470-81c4-4baea046fcdf",
   "metadata": {},
   "source": [
    "# OOP Revision"
   ]
  },
  {
   "cell_type": "code",
   "execution_count": 20,
   "id": "a1f0e9c7",
   "metadata": {},
   "outputs": [],
   "source": [
    "class Characters:\n",
    "    def __init__(self, speed, health):\n",
    "        self.speed = speed\n",
    "        self.health = health\n",
    "\n",
    "    def describe(self):\n",
    "        print(self)"
   ]
  },
  {
   "cell_type": "code",
   "execution_count": 21,
   "id": "46a10d7f",
   "metadata": {},
   "outputs": [],
   "source": [
    "jack =Characters(20, 29)"
   ]
  },
  {
   "cell_type": "code",
   "execution_count": 22,
   "id": "1d7f5488-0c1e-447a-9306-d4308b8b0d87",
   "metadata": {},
   "outputs": [
    {
     "name": "stdout",
     "output_type": "stream",
     "text": [
      "<__main__.Characters object at 0x00000198FEFC4D50>\n"
     ]
    }
   ],
   "source": [
    "jack.describe()"
   ]
  },
  {
   "cell_type": "code",
   "execution_count": 23,
   "id": "4f8ac247-dd14-4696-ae7c-af26abfbffbf",
   "metadata": {},
   "outputs": [
    {
     "name": "stdout",
     "output_type": "stream",
     "text": [
      "<__main__.Characters object at 0x00000198FEFC4D50>\n"
     ]
    }
   ],
   "source": [
    "print(jack)"
   ]
  },
  {
   "cell_type": "markdown",
   "id": "4861ebe0-6c8c-45e3-ba3b-01f6bb7ccbc1",
   "metadata": {},
   "source": [
    "Create a BankAccount class with attributes account_number and balance. Include methods deposit() and withdraw() to add or subtract funds form the acoount.¶"
   ]
  },
  {
   "cell_type": "code",
   "execution_count": 25,
   "id": "11a5e639-2732-4e65-beb1-b5d1430b42f4",
   "metadata": {},
   "outputs": [],
   "source": [
    "class BankAccount:\n",
    "    def __init__(self, account_number, balance):\n",
    "        self.account_number = account_number\n",
    "        self.balance = balance\n",
    "\n",
    "    def deposit(self, amount):\n",
    "        self.balance += amount\n",
    "        print(f\"The amount added is {amount} and the new balance is {self.balance}\")\n",
    "        \n",
    "\n",
    "    def withdraw(self,withdra):\n",
    "        if self.balance > withdra:\n",
    "            self.balance -= withdra\n",
    "            print(f\"The amount deducted is {withdra} and the new balance is {self.balance}\")\n",
    "        else:\n",
    "            print(\"Not enough balance to withdraw\")\n"
   ]
  },
  {
   "cell_type": "code",
   "execution_count": 26,
   "id": "5eb0b003-dfd4-4046-a9cd-7bfb2571b9df",
   "metadata": {},
   "outputs": [],
   "source": [
    "account = BankAccount(\"3131315461531651\",2000)"
   ]
  },
  {
   "cell_type": "code",
   "execution_count": 27,
   "id": "2c9d3be3-e39f-47b9-839d-e8444a22a279",
   "metadata": {},
   "outputs": [
    {
     "name": "stdout",
     "output_type": "stream",
     "text": [
      "The amount added is 3000 and the new balance is 5000\n"
     ]
    }
   ],
   "source": [
    "account.deposit(3000)"
   ]
  },
  {
   "cell_type": "code",
   "execution_count": 28,
   "id": "8d1d378d-41f5-465f-b712-3e29529db686",
   "metadata": {},
   "outputs": [
    {
     "name": "stdout",
     "output_type": "stream",
     "text": [
      "The amount deducted is 200 and the new balance is 4800\n"
     ]
    }
   ],
   "source": [
    "account.withdraw(200)"
   ]
  },
  {
   "cell_type": "code",
   "execution_count": null,
   "id": "90f8ffc3-7622-4e6e-a06b-53675047f77f",
   "metadata": {},
   "outputs": [],
   "source": []
  }
 ],
 "metadata": {
  "kernelspec": {
   "display_name": "Python 3 (ipykernel)",
   "language": "python",
   "name": "python3"
  },
  "language_info": {
   "codemirror_mode": {
    "name": "ipython",
    "version": 3
   },
   "file_extension": ".py",
   "mimetype": "text/x-python",
   "name": "python",
   "nbconvert_exporter": "python",
   "pygments_lexer": "ipython3",
   "version": "3.11.3"
  }
 },
 "nbformat": 4,
 "nbformat_minor": 5
}
