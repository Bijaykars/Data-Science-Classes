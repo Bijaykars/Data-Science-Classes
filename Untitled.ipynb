{
 "cells": [
  {
   "cell_type": "markdown",
   "id": "2b9137a2-4f07-499b-9b1e-830b7efdc421",
   "metadata": {
    "jp-MarkdownHeadingCollapsed": true
   },
   "source": [
    "# Typecasting    \n",
    "\n",
    "#### Is used to convert integer to float or any other data type "
   ]
  },
  {
   "cell_type": "code",
   "execution_count": null,
   "id": "113d13b1-6f3b-4e6d-9d21-091dd76e9842",
   "metadata": {
    "scrolled": true
   },
   "outputs": [],
   "source": [
    "x = 10\n",
    "y = 3.14\n",
    "\n",
    "x = float(x)\n"
   ]
  },
  {
   "cell_type": "markdown",
   "id": "26d2a2b0-4d22-4b7f-8291-1bd4a5ee0227",
   "metadata": {
    "jp-MarkdownHeadingCollapsed": true
   },
   "source": [
    "# Comparision operators\n",
    "\n",
    "##  != not equal to\""
   ]
  },
  {
   "cell_type": "code",
   "execution_count": null,
   "id": "31895c6d-be94-4168-aece-312e6b49e77b",
   "metadata": {},
   "outputs": [],
   "source": [
    "import math"
   ]
  },
  {
   "cell_type": "code",
   "execution_count": null,
   "id": "a727a8ef-0c37-4911-9489-448217e8184c",
   "metadata": {},
   "outputs": [],
   "source": [
    "x = -5.5"
   ]
  },
  {
   "cell_type": "code",
   "execution_count": null,
   "id": "5ad57d83-4c0f-461a-b6d2-9e44b2b9cc01",
   "metadata": {},
   "outputs": [],
   "source": [
    "print(abs(x))"
   ]
  },
  {
   "cell_type": "code",
   "execution_count": null,
   "id": "4b9779ba-ece5-415d-8f00-70b16cc6e6f2",
   "metadata": {},
   "outputs": [],
   "source": [
    "print(round(x))"
   ]
  },
  {
   "cell_type": "code",
   "execution_count": null,
   "id": "3562dc02-2ed6-4342-b825-7b8d1a1de019",
   "metadata": {},
   "outputs": [],
   "source": [
    "print(max(1,2,3))"
   ]
  },
  {
   "cell_type": "code",
   "execution_count": null,
   "id": "65fa4d8b-25e0-4f5e-8016-9fbba454e59c",
   "metadata": {},
   "outputs": [],
   "source": [
    "print(pow(2,3))"
   ]
  },
  {
   "cell_type": "code",
   "execution_count": null,
   "id": "4dfacb00-7eac-49d7-97f1-8ea67aee275a",
   "metadata": {},
   "outputs": [],
   "source": [
    "print(math.sqrt(18))"
   ]
  },
  {
   "cell_type": "code",
   "execution_count": null,
   "id": "fbb331e1-3464-4cf0-955c-f6451c338a8f",
   "metadata": {},
   "outputs": [],
   "source": [
    "math.cbrt(27)"
   ]
  },
  {
   "cell_type": "markdown",
   "id": "5ca4481d-39f3-4335-8774-ad130ddfd601",
   "metadata": {
    "jp-MarkdownHeadingCollapsed": true
   },
   "source": [
    "# Defining Strings\n"
   ]
  },
  {
   "cell_type": "code",
   "execution_count": null,
   "id": "5a930bfa-db51-43c5-9c27-4192f1a41c3c",
   "metadata": {},
   "outputs": [],
   "source": [
    "x = \"               Hello , Wordl!\""
   ]
  },
  {
   "cell_type": "code",
   "execution_count": null,
   "id": "e955735b-d242-454c-88a7-9bb858709ca0",
   "metadata": {},
   "outputs": [],
   "source": [
    "x = x.strip()"
   ]
  },
  {
   "cell_type": "code",
   "execution_count": null,
   "id": "c16ff72c-94da-47be-a166-98dbc227add8",
   "metadata": {},
   "outputs": [],
   "source": [
    "print(x.lower())"
   ]
  },
  {
   "cell_type": "code",
   "execution_count": null,
   "id": "31d0515a-ff79-422f-9253-7e95dd091a48",
   "metadata": {},
   "outputs": [],
   "source": [
    "print(x.split(\",\"))"
   ]
  },
  {
   "cell_type": "code",
   "execution_count": null,
   "id": "620ca492-1626-42da-a0ac-839977f96cb2",
   "metadata": {},
   "outputs": [],
   "source": [
    "print(x.endswith(\"World!\"))"
   ]
  },
  {
   "cell_type": "code",
   "execution_count": null,
   "id": "a23c2075-b972-4de8-b866-a96e4daa0892",
   "metadata": {},
   "outputs": [],
   "source": [
    "x[6]"
   ]
  },
  {
   "cell_type": "code",
   "execution_count": null,
   "id": "9f590df4-8101-47f2-a9d1-42b2a699d110",
   "metadata": {},
   "outputs": [],
   "source": [
    "x[0:6]"
   ]
  },
  {
   "cell_type": "code",
   "execution_count": null,
   "id": "dcb48ee6-56e5-415b-94b1-978503684b0b",
   "metadata": {},
   "outputs": [],
   "source": [
    "x[:5]"
   ]
  },
  {
   "cell_type": "code",
   "execution_count": null,
   "id": "d365cbae-2f09-4554-96f6-97fc67e2539c",
   "metadata": {},
   "outputs": [],
   "source": [
    "x[::-1]"
   ]
  },
  {
   "cell_type": "markdown",
   "id": "3b3a3f84-f2fa-400b-b4cc-d0448d20b6a1",
   "metadata": {
    "jp-MarkdownHeadingCollapsed": true
   },
   "source": [
    "# String Formatting"
   ]
  },
  {
   "cell_type": "code",
   "execution_count": null,
   "id": "262a0036-26ce-4ed1-92be-9992f580d4eb",
   "metadata": {},
   "outputs": [],
   "source": [
    "x = \"Hawa\"\n",
    "y = 25"
   ]
  },
  {
   "cell_type": "code",
   "execution_count": null,
   "id": "ff04d452-c5cb-43bc-9803-84350772349d",
   "metadata": {},
   "outputs": [],
   "source": [
    "print(\"My name is %s and i am %d  years old.\" %(x,y))"
   ]
  },
  {
   "cell_type": "code",
   "execution_count": null,
   "id": "0e2041ff-68cd-413d-8e86-f41028b7d495",
   "metadata": {},
   "outputs": [],
   "source": [
    "print(f\" aslkdjsaldsad  {x} , asdadasdasdad {y}\")\n"
   ]
  },
  {
   "cell_type": "markdown",
   "id": "dec0a61b-2d7d-4099-a8dc-ba0e439e593d",
   "metadata": {
    "jp-MarkdownHeadingCollapsed": true
   },
   "source": [
    "# Sqeunce Types including different data types"
   ]
  },
  {
   "cell_type": "markdown",
   "id": "94fb02fb-b8cf-4415-ae82-a6b9f7a7e632",
   "metadata": {},
   "source": [
    "#### List  = [ ]"
   ]
  },
  {
   "cell_type": "code",
   "execution_count": null,
   "id": "6734e82a-db15-4c4f-9a5a-176fe2a31243",
   "metadata": {},
   "outputs": [],
   "source": [
    "x = [1 , \"Bijay\" , True , 6]"
   ]
  },
  {
   "cell_type": "code",
   "execution_count": null,
   "id": "85d64a9a-408f-4fc2-9ebd-f479d5b140e0",
   "metadata": {},
   "outputs": [],
   "source": [
    "type(x)"
   ]
  },
  {
   "cell_type": "markdown",
   "id": "a0e7596b-60da-4f44-aa04-ad054fca8f68",
   "metadata": {
    "jp-MarkdownHeadingCollapsed": true
   },
   "source": [
    "# Slicing Lists"
   ]
  },
  {
   "cell_type": "markdown",
   "id": "b9e208dd-54bb-445c-bd98-be318de0f8a3",
   "metadata": {},
   "source": [
    "vairalbe [ Starting index : stop index : step ]"
   ]
  },
  {
   "cell_type": "code",
   "execution_count": null,
   "id": "07313f08-9de7-4e11-91c7-dba714eca808",
   "metadata": {},
   "outputs": [],
   "source": [
    "x = [1 , 2, 3 , 4 ]"
   ]
  },
  {
   "cell_type": "code",
   "execution_count": null,
   "id": "4e2d5b5d-2525-4bcc-bc52-9f0b96b249ec",
   "metadata": {},
   "outputs": [],
   "source": [
    "x[::2]"
   ]
  },
  {
   "cell_type": "markdown",
   "id": "b9327199-f13d-4b5e-a182-cf6384333f64",
   "metadata": {
    "jp-MarkdownHeadingCollapsed": true
   },
   "source": [
    "# Modifying list"
   ]
  },
  {
   "cell_type": "code",
   "execution_count": null,
   "id": "3fa892f8-2468-4b46-82f8-5cad8efc8710",
   "metadata": {},
   "outputs": [],
   "source": [
    "x .append(6) # adds at the end of the list"
   ]
  },
  {
   "cell_type": "code",
   "execution_count": null,
   "id": "b6ed11e9-ce9e-47d8-840a-3c8ed93fc8e1",
   "metadata": {},
   "outputs": [],
   "source": [
    "x.insert(2 , \"aaple\") #adds to the 2nd index of the list not deletes the current 2nd index"
   ]
  },
  {
   "cell_type": "code",
   "execution_count": null,
   "id": "26a51a7f-9ef4-4621-a6ec-8c454236ef12",
   "metadata": {},
   "outputs": [],
   "source": [
    "x.remove(\"aaple\")"
   ]
  },
  {
   "cell_type": "code",
   "execution_count": null,
   "id": "b4e724f8-2854-4a6d-ae98-84fa51c1e702",
   "metadata": {},
   "outputs": [],
   "source": [
    "x"
   ]
  },
  {
   "cell_type": "code",
   "execution_count": null,
   "id": "efa4d248-2ab2-4e39-b2c3-0fd70bc15abf",
   "metadata": {},
   "outputs": [],
   "source": [
    "x.pop(2) # remove functions uses the values inside where pop removies by index\n",
    "print(x)"
   ]
  },
  {
   "cell_type": "code",
   "execution_count": null,
   "id": "6126f4dc-b20c-4aa5-9b24-08dedd6d9597",
   "metadata": {},
   "outputs": [],
   "source": [
    "x = [1,2,3,4,5,6,7,8,1,1,1,1,1,1,1,1,1,1,1,1]"
   ]
  },
  {
   "cell_type": "code",
   "execution_count": null,
   "id": "7414a8a3-8bbf-4858-821a-93243fd39d2f",
   "metadata": {},
   "outputs": [],
   "source": [
    "x.count(1)"
   ]
  },
  {
   "cell_type": "code",
   "execution_count": null,
   "id": "4e91dc04-10b9-44a9-b9c9-9327cf11c1ad",
   "metadata": {},
   "outputs": [],
   "source": [
    "x.sort()\n",
    "print(x)"
   ]
  },
  {
   "cell_type": "code",
   "execution_count": null,
   "id": "66e7ec3f-5024-47bc-8ad2-9c1b55965a58",
   "metadata": {},
   "outputs": [],
   "source": [
    "x.sort(reverse = True )\n",
    "print(x)"
   ]
  },
  {
   "cell_type": "code",
   "execution_count": null,
   "id": "74f1d5b7-1968-4057-a4bc-3b1d1dcc7416",
   "metadata": {},
   "outputs": [],
   "source": [
    "x.index(5) # returns the index of the first index of the value that it finds from the left to the right"
   ]
  },
  {
   "cell_type": "markdown",
   "id": "9554942f-c8bf-4af8-9050-523509a4fd00",
   "metadata": {
    "jp-MarkdownHeadingCollapsed": true
   },
   "source": [
    "# Tuple"
   ]
  },
  {
   "cell_type": "markdown",
   "id": "c2ff8d42-328e-4722-b2b7-71e59b59f881",
   "metadata": {},
   "source": [
    "## Creating a tuple elements \n",
    "they are immutable"
   ]
  },
  {
   "cell_type": "code",
   "execution_count": null,
   "id": "ba3e0711-bd5f-42a9-880a-4a2625944427",
   "metadata": {},
   "outputs": [],
   "source": [
    "tuple = (1,2,3,4)"
   ]
  },
  {
   "cell_type": "code",
   "execution_count": null,
   "id": "46d7209e-b8e4-434a-9183-07a007af606d",
   "metadata": {},
   "outputs": [],
   "source": [
    "tuple"
   ]
  },
  {
   "cell_type": "markdown",
   "id": "5fc1335b-ea08-414e-a9e0-7a6264e0c0c4",
   "metadata": {},
   "source": [
    " Once created, you cannot modify the contents of a tuple. this means that you cannot add or remove "
   ]
  },
  {
   "cell_type": "code",
   "execution_count": null,
   "id": "ec2b8c61-64b7-43a5-83e0-ea572fc17e62",
   "metadata": {},
   "outputs": [],
   "source": [
    "x = 1,2,3,4,5  \n",
    "# if no brackets are given to specify the type of data structure, tuple or list or etc, it automatically assigs it to a tuple\n",
    "print(type(x))"
   ]
  },
  {
   "cell_type": "code",
   "execution_count": null,
   "id": "164579e0-feff-4162-ba9e-41f910bf1d73",
   "metadata": {},
   "outputs": [],
   "source": [
    "print(sum(x))\n",
    "\n",
    "print(max(x))"
   ]
  },
  {
   "cell_type": "markdown",
   "id": "6ed09cda-cc85-4610-9bf6-7e87eecaeaa9",
   "metadata": {
    "jp-MarkdownHeadingCollapsed": true
   },
   "source": [
    "# Set Types"
   ]
  },
  {
   "cell_type": "markdown",
   "id": "e27f158c-6495-4fb9-b353-b479b5bce8af",
   "metadata": {},
   "source": [
    "Set are created ussing curly braces { } \n",
    "\n",
    "sets basically arranges all numbers automatically \\\n",
    "sets removes the duplicates \\\n",
    "sets does not have a way to index the elemets in the sets (not subscriptable) \\\n",
    "Form submissions where you want to discard duplicate submissions \\\n"
   ]
  },
  {
   "cell_type": "code",
   "execution_count": null,
   "id": "530cdfa2-0dd2-41e3-90d0-fbe7440169ba",
   "metadata": {},
   "outputs": [],
   "source": [
    "x = { 1 , 2, 3, 4}\n",
    "y = set([1,2,3,4,])\n",
    "print(x, y)\n",
    "print(type(x))\n",
    "print(type(y))"
   ]
  },
  {
   "cell_type": "code",
   "execution_count": null,
   "id": "55448134-62b5-4e04-8edb-08fecbb9828d",
   "metadata": {},
   "outputs": [],
   "source": [
    "x = { 1, 3 , 3, 24, 5, 6 }\n",
    "y = { 2, 4, 6, 8, 10 ,12 }"
   ]
  },
  {
   "cell_type": "code",
   "execution_count": null,
   "id": "1d141405-639f-4c3d-8e66-6899b0828a04",
   "metadata": {},
   "outputs": [],
   "source": [
    "x.add(7)\n",
    "print(x)"
   ]
  },
  {
   "cell_type": "markdown",
   "id": "c79f2703-5fce-452c-b45b-a44ead2c02ba",
   "metadata": {
    "jp-MarkdownHeadingCollapsed": true
   },
   "source": [
    "# Mapping type"
   ]
  },
  {
   "cell_type": "markdown",
   "id": "1480503a-dc75-45bb-ad2c-f24f901f79e9",
   "metadata": {},
   "source": [
    "## Dictionaries"
   ]
  },
  {
   "cell_type": "markdown",
   "id": "5edccc36-7437-48b8-bae2-e9c2327faa7c",
   "metadata": {},
   "source": [
    "{ \\\n",
    "    key : value,\\\n",
    "    key2 : value2,\\\n",
    "    key3 : value3\\\n",
    "}"
   ]
  },
  {
   "cell_type": "code",
   "execution_count": null,
   "id": "b8bfa518-9560-4bd1-97d7-d22c97c0a481",
   "metadata": {},
   "outputs": [],
   "source": [
    "person = {\n",
    "            \"name\" : \"BIjay\",\n",
    "            \"age\" : 30,\n",
    "            \"city\" : \"Kathmandu\"\n",
    "}"
   ]
  },
  {
   "cell_type": "code",
   "execution_count": null,
   "id": "ee8fa69e-bc7e-4e9f-a014-83fed71a4124",
   "metadata": {},
   "outputs": [],
   "source": [
    "print(person)"
   ]
  },
  {
   "cell_type": "code",
   "execution_count": null,
   "id": "8231eeac-8678-4c4a-974e-471ab9408f03",
   "metadata": {},
   "outputs": [],
   "source": [
    "person.keys()"
   ]
  },
  {
   "cell_type": "code",
   "execution_count": null,
   "id": "8eb430d7-ec49-4605-8553-bffd0784a234",
   "metadata": {},
   "outputs": [],
   "source": [
    "print(person[\"name\"])"
   ]
  },
  {
   "cell_type": "code",
   "execution_count": null,
   "id": "83793c07-85d7-4584-9e20-3de52e432695",
   "metadata": {},
   "outputs": [],
   "source": [
    "del person[\"city\"]   # to delete the city of the dictionaries\n",
    "print(person)"
   ]
  },
  {
   "cell_type": "code",
   "execution_count": null,
   "id": "9ac5a695-31fe-4870-b406-b90492d7af5f",
   "metadata": {},
   "outputs": [],
   "source": [
    "person.pop(\"city\" , \"NYC\")  # if there is no key like the key city then it automatically gives the value NYC"
   ]
  },
  {
   "cell_type": "code",
   "execution_count": null,
   "id": "bdaf3fe7-73d8-4102-a3e1-9b7f7f6269d7",
   "metadata": {},
   "outputs": [],
   "source": [
    "print(person)"
   ]
  },
  {
   "cell_type": "code",
   "execution_count": null,
   "id": "d57469ae-89d2-47fd-9a63-cdbbf744293b",
   "metadata": {},
   "outputs": [],
   "source": [
    "person.clear()"
   ]
  },
  {
   "cell_type": "code",
   "execution_count": null,
   "id": "bda62e05-d836-4a89-aaea-6c506f8bc414",
   "metadata": {},
   "outputs": [],
   "source": [
    "person"
   ]
  },
  {
   "cell_type": "markdown",
   "id": "9914a0ed-15fb-4102-8045-5fd275f0dfa2",
   "metadata": {
    "jp-MarkdownHeadingCollapsed": true
   },
   "source": [
    "# Python Boolean Type"
   ]
  },
  {
   "cell_type": "code",
   "execution_count": null,
   "id": "aada2fd0-c575-4d5d-9cd2-501962b389a0",
   "metadata": {},
   "outputs": [],
   "source": [
    "x = 10\n",
    "y = 0\n",
    "\n",
    "s = \"hello\"\n",
    "t = \"\"\n",
    "y = \" \"\n",
    "\n",
    "lst = [1,2,3]\n",
    "empty_lst = []\n",
    "\n",
    "dct = {\"a\" : 1 , \"b\" : 2}\n",
    "empty_dct = {}\n",
    "\n",
    "obj = object()\n",
    "none_obj = None\n",
    "\n",
    "print(bool(t))\n",
    "\n",
    "print(bool(y))\n",
    "\n",
    "print(bool(empty_dct))\n",
    "\n",
    "print(type(empty_dct))\n",
    "\n"
   ]
  },
  {
   "cell_type": "markdown",
   "id": "dd9bb027-3fff-489c-a5a2-9053f108d664",
   "metadata": {
    "jp-MarkdownHeadingCollapsed": true
   },
   "source": [
    "# Python Binary type"
   ]
  },
  {
   "cell_type": "markdown",
   "id": "43b7ba30-5b0c-4293-84c1-ba6756e1756a",
   "metadata": {},
   "source": [
    "in python it represents using the bytes and bytearray type \\"
   ]
  },
  {
   "cell_type": "code",
   "execution_count": null,
   "id": "a127065d-305f-4b77-b6ec-a8895cf5a354",
   "metadata": {},
   "outputs": [],
   "source": [
    "b = bytes([0,1,2,3,4,5])"
   ]
  },
  {
   "cell_type": "code",
   "execution_count": null,
   "id": "331f4054-6ab7-4bf0-84b4-d6720413d5e4",
   "metadata": {},
   "outputs": [],
   "source": [
    "print(b)"
   ]
  },
  {
   "cell_type": "code",
   "execution_count": null,
   "id": "d8ca1027-8028-474d-a903-98a92e4d4df9",
   "metadata": {},
   "outputs": [],
   "source": [
    "b = bytearray([0,1,2,3,4,5])"
   ]
  },
  {
   "cell_type": "code",
   "execution_count": null,
   "id": "eeff0cac-d645-4706-b2a8-e4819e21fef3",
   "metadata": {},
   "outputs": [],
   "source": [
    "print(b)"
   ]
  },
  {
   "cell_type": "code",
   "execution_count": null,
   "id": "e28f8ff6-5540-4e55-bcb1-6372097eb6d6",
   "metadata": {},
   "outputs": [],
   "source": [
    "b.hex()"
   ]
  },
  {
   "cell_type": "markdown",
   "id": "72243052-afd5-4cfc-bea8-a92942dc90f1",
   "metadata": {},
   "source": [
    "Unicode encoder"
   ]
  },
  {
   "cell_type": "markdown",
   "id": "f1302ebc-7004-49c2-92fb-faf758b3ae90",
   "metadata": {
    "jp-MarkdownHeadingCollapsed": true
   },
   "source": [
    "# Conditional statement"
   ]
  },
  {
   "cell_type": "code",
   "execution_count": null,
   "id": "818719cd-e63a-44aa-811e-233bf5b28ad7",
   "metadata": {},
   "outputs": [],
   "source": [
    "x =5\n",
    "y = 10\n",
    "if x > 4 and x > 2 and y > 11 and x > 6:\n",
    "    print(\"Safe\")\n",
    "else:\n",
    "    print(\"not safe\")\n",
    "    x += 5\n",
    "    print(x)\n",
    "    "
   ]
  },
  {
   "cell_type": "code",
   "execution_count": null,
   "id": "59022a73-6cb7-4eb8-9522-9502d043eef8",
   "metadata": {},
   "outputs": [],
   "source": [
    "grade = float(input())\n",
    "\n",
    "if grade >= 80 and grade <= 100:\n",
    "    print(\"Grade A\")\n",
    "\n",
    "elif grade >= 60 and grade < 80:\n",
    "    print(\"Grade B\")\n",
    "\n",
    "elif  grade >= 40 and grade < 60:\n",
    "    print(\"Grade C\")\n",
    "\n",
    "elif grade < 40 and grade >= 0:\n",
    "    print(\"Grade D\")\n",
    "\n",
    "else:\n",
    "    print(\"Enter the correct range of grade\")"
   ]
  },
  {
   "cell_type": "markdown",
   "id": "68fa2b5d-2d91-47ff-838a-801ecaf0ad3f",
   "metadata": {
    "jp-MarkdownHeadingCollapsed": true
   },
   "source": [
    "# Looop statements in python"
   ]
  },
  {
   "cell_type": "code",
   "execution_count": null,
   "id": "aec0a830-2611-4fbf-8a24-946013235880",
   "metadata": {},
   "outputs": [],
   "source": [
    "fruits = [ 'apple', 'banana' , 'cherry', 'pineapple' ]\n",
    "\n",
    "for x in fruits:                                         #  used for anything that is in a sequence type like list , tuple or dicrt\n",
    "    print(x)"
   ]
  },
  {
   "cell_type": "code",
   "execution_count": null,
   "id": "3670543a-4c48-409b-8038-30b44444798c",
   "metadata": {},
   "outputs": [],
   "source": [
    "number  = int(input(\"Enter a number \"))\n",
    "\n",
    "for i in range(10):\n",
    "    print(number * (i +1))\n",
    "    "
   ]
  },
  {
   "cell_type": "code",
   "execution_count": 1,
   "id": "db57081e-aac6-4f75-a02b-c3ce384b1884",
   "metadata": {},
   "outputs": [
    {
     "name": "stdin",
     "output_type": "stream",
     "text": [
      "Enter the number of lines of star you want to print:  5\n"
     ]
    },
    {
     "name": "stdout",
     "output_type": "stream",
     "text": [
      "\n",
      " * \n",
      " *  * \n",
      " *  *  * \n",
      " *  *  *  * \n",
      " *  *  *  *  * \n"
     ]
    }
   ],
   "source": [
    "number = int(input(\"Enter the number of lines of star you want to print: \"))\n",
    "for i in range(number+1):\n",
    "    print(\" * \" * i)"
   ]
  },
  {
   "cell_type": "code",
   "execution_count": 9,
   "id": "99aef33c-a10b-40b3-bb23-6c2f716bc935",
   "metadata": {
    "scrolled": true
   },
   "outputs": [
    {
     "name": "stdin",
     "output_type": "stream",
     "text": [
      "Enter the number of lines of star you want to print:  5\n"
     ]
    },
    {
     "name": "stdout",
     "output_type": "stream",
     "text": [
      "*  *  *  *  *  *  \n",
      "*  *  *  *  *  \n",
      "*  *  *  *  \n",
      "*  *  *  \n",
      "*  *  \n",
      "*  \n"
     ]
    }
   ],
   "source": [
    "number = int(input(\"Enter the number of lines of star you want to print: \"))\n",
    "for i in range(number + 1 , 0 , -1):\n",
    "    for j in range(i):\n",
    "        print( \"* \" , end = \" \" )\n",
    "    print(\"\")"
   ]
  },
  {
   "cell_type": "code",
   "execution_count": 11,
   "id": "6d8b2ea7-8fe7-42f0-83b8-6a559437181a",
   "metadata": {},
   "outputs": [
    {
     "name": "stdin",
     "output_type": "stream",
     "text": [
      "Enter a number  4\n"
     ]
    },
    {
     "name": "stdout",
     "output_type": "stream",
     "text": [
      " 4 * 1 = 4 \n",
      " 4 * 2 = 8 \n",
      " 4 * 3 = 12 \n",
      " 4 * 4 = 16 \n",
      " 4 * 5 = 20 \n",
      " 4 * 6 = 24 \n",
      " 4 * 7 = 28 \n",
      " 4 * 8 = 32 \n",
      " 4 * 9 = 36 \n",
      " 4 * 10 = 40 \n"
     ]
    }
   ],
   "source": [
    "number = int(input(\"Enter a number \"))\n",
    "x = 1\n",
    "\n",
    "while x <= 10:\n",
    "    print(f\" {number} * {x} = {number * x} \")\n",
    "    x += 1"
   ]
  },
  {
   "cell_type": "code",
   "execution_count": 21,
   "id": "36b89613-1638-4b69-bef1-3c693c3cf762",
   "metadata": {},
   "outputs": [
    {
     "name": "stdin",
     "output_type": "stream",
     "text": [
      "Enter a number  55\n"
     ]
    },
    {
     "name": "stdout",
     "output_type": "stream",
     "text": [
      "25\n"
     ]
    }
   ],
   "source": [
    "number  =  int(input(\"Enter a number \"))\n",
    "\n",
    "div = int((number / 10))\n",
    "\n",
    "rem = int(number % 10)\n",
    "\n",
    "print(div * rem)"
   ]
  },
  {
   "cell_type": "markdown",
   "id": "c75f680d-ebcb-4640-b55f-131e2774c959",
   "metadata": {},
   "source": [
    "# Python Compreshnsion"
   ]
  },
  {
   "cell_type": "markdown",
   "id": "248a9c4b-43a8-4742-bca9-7d8b0fc77ed1",
   "metadata": {},
   "source": [
    "## List comprehension\n",
    "\n",
    "    * is a concise way to create list.\n",
    "    * it provides a compact syntax for mapping a given iterable to a new list by applying a spectific expression to each element in the     \n",
    "     original iterable\n",
    "     * Can be used only for a list"
   ]
  },
  {
   "cell_type": "code",
   "execution_count": 22,
   "id": "e07b33cf-32bf-4a47-aef3-57d80901eac9",
   "metadata": {},
   "outputs": [
    {
     "name": "stdout",
     "output_type": "stream",
     "text": [
      "[1, 4, 9, 16, 25]\n"
     ]
    }
   ],
   "source": [
    "number  = [1, 2, 3, 4, 5]\n",
    "squared = []\n",
    "\n",
    "for each in number:\n",
    "    squared.append( each ** 2)\n",
    "\n",
    "print(squared)"
   ]
  },
  {
   "cell_type": "code",
   "execution_count": 28,
   "id": "ba8f75dc-4938-426b-af0a-37335da536d5",
   "metadata": {},
   "outputs": [
    {
     "name": "stdout",
     "output_type": "stream",
     "text": [
      "[1, 4, 9, 16, 25]\n"
     ]
    }
   ],
   "source": [
    "# Using List comprehension\n",
    "\n",
    "squared = [each ** 2 for each in number]\n",
    "print(squared)"
   ]
  },
  {
   "cell_type": "code",
   "execution_count": 31,
   "id": "ad9b64fa-ea9c-484b-9f21-fce36a2a5f5c",
   "metadata": {},
   "outputs": [
    {
     "name": "stdout",
     "output_type": "stream",
     "text": [
      "[4, 7, 7, 8]\n"
     ]
    }
   ],
   "source": [
    "words = [ 'data', 'science', 'machine', 'learning']\n",
    "lenghts = [len(wo) for wo in words]\n",
    "print(lenghts)"
   ]
  },
  {
   "cell_type": "code",
   "execution_count": 34,
   "id": "54652893-afe4-42c9-9f4f-73dc4bd1f4f9",
   "metadata": {},
   "outputs": [],
   "source": [
    "import math"
   ]
  },
  {
   "cell_type": "markdown",
   "id": "07fd4af5-6460-46d9-b9c7-2072a0ced945",
   "metadata": {},
   "source": [
    "---"
   ]
  },
  {
   "cell_type": "code",
   "execution_count": 48,
   "id": "4367a3fb-3bd0-4113-98d0-71b93073fc52",
   "metadata": {},
   "outputs": [
    {
     "name": "stdout",
     "output_type": "stream",
     "text": [
      "[2, 4, 6, 8]\n"
     ]
    }
   ],
   "source": [
    "number = [-2 , -1, 0, 1, 2, 3, 4]\n",
    "\n",
    "positive_doubles = [double * 2 for double in number if double > 0]\n",
    "\n",
    "print(positive_doubles)"
   ]
  },
  {
   "cell_type": "markdown",
   "id": "a0bfba66-8f7c-4316-83b2-cba06798aade",
   "metadata": {},
   "source": [
    "---"
   ]
  },
  {
   "cell_type": "markdown",
   "id": "6d82d37c-b0f6-4d77-a6d6-850fe552e854",
   "metadata": {},
   "source": [
    "## Dictionary Comprehension"
   ]
  },
  {
   "cell_type": "markdown",
   "id": "1632b768-6a16-4c25-9405-bd8ec0b70c4c",
   "metadata": {},
   "source": [
    "```python\n",
    "\n",
    "    new_dict = { key_expression: value_expression for item in iterable if condition}\n",
    "\n",
    "```"
   ]
  },
  {
   "cell_type": "code",
   "execution_count": 51,
   "id": "bf3120c1-1d19-477f-bac7-a6e1e0563e11",
   "metadata": {},
   "outputs": [
    {
     "name": "stdout",
     "output_type": "stream",
     "text": [
      "{'data': 4, 'science': 7, 'machine': 7, 'learning': 8}\n"
     ]
    }
   ],
   "source": [
    "words = [ 'data', 'science', 'machine', 'learning']\n",
    "new_dict = { data : len(data) for data in words}\n",
    "print(new_dict)"
   ]
  },
  {
   "cell_type": "code",
   "execution_count": 55,
   "id": "64dfd746-14c5-48fa-834a-608e6e7814af",
   "metadata": {},
   "outputs": [
    {
     "name": "stdout",
     "output_type": "stream",
     "text": [
      "{'science': 7, 'machine': 7, 'learning': 8, ' Deep': 5, 'Python': 6}\n",
      "<class 'dict'>\n"
     ]
    }
   ],
   "source": [
    "words = [ 'data', 'science', 'machine', 'learning', ' Deep', 'Python']\n",
    "\n",
    "new_dict = { data : len(data) for data in words if len(data) > 4 }\n",
    "print(new_dict)\n",
    "print(type(new_dict))"
   ]
  },
  {
   "cell_type": "code",
   "execution_count": 57,
   "id": "740242fa-64ec-4415-a234-5f75b2263bc6",
   "metadata": {},
   "outputs": [
    {
     "name": "stdout",
     "output_type": "stream",
     "text": [
      "{'Python', ' Deep', 'machine', 'learning', 'science'}\n",
      "<class 'set'>\n"
     ]
    }
   ],
   "source": [
    "words = [ 'data', 'science', 'machine', 'learning', ' Deep', 'Python']\n",
    "\n",
    "new_dict = { data for data in words if len(data) > 4 }\n",
    "\n",
    "print(new_dict)\n",
    "print(type(new_dict))"
   ]
  },
  {
   "cell_type": "markdown",
   "id": "33793799-7a5e-4c8a-9920-d953e599165e",
   "metadata": {},
   "source": [
    "## Set Comprehension"
   ]
  },
  {
   "cell_type": "markdown",
   "id": "755b904b-3f31-431a-8058-d60da89ecf86",
   "metadata": {},
   "source": [
    "Same as dictionary comprehension but in the expression there is no key and values"
   ]
  },
  {
   "cell_type": "code",
   "execution_count": 69,
   "id": "b836b229-8ea9-466e-bb11-179f52032058",
   "metadata": {},
   "outputs": [
    {
     "name": "stdout",
     "output_type": "stream",
     "text": [
      "{4, 6, 8, 40, 10, 18, 60}\n"
     ]
    }
   ],
   "source": [
    "number = [-2 , -1, 0, 5, 2, 3, 4, 9,20,30]\n",
    "\n",
    "positive_doubles = {double * 2 for double in number if double > 0}\n",
    "\n",
    "print(positive_doubles)"
   ]
  },
  {
   "cell_type": "code",
   "execution_count": 78,
   "id": "4119819d-a113-49ef-8b9e-54104405263d",
   "metadata": {},
   "outputs": [
    {
     "name": "stdout",
     "output_type": "stream",
     "text": [
      "['o', 'e']\n"
     ]
    }
   ],
   "source": [
    "input_str = \"Hello, world!\"\n",
    "vowels = 'aeiou'\n",
    "vowels_cont = {vow for vow in input_str for vowel in vowels if vowel == vow}\n",
    "print(list(vowels_cont))"
   ]
  },
  {
   "cell_type": "code",
   "execution_count": 79,
   "id": "593913b1-eeff-4509-9cf0-b65b36adeb31",
   "metadata": {},
   "outputs": [
    {
     "name": "stdout",
     "output_type": "stream",
     "text": [
      "['o', 'e']\n"
     ]
    }
   ],
   "source": [
    "input_str = \"Hello, world!\"\n",
    "vowels = set('aeiou')\n",
    "vowels_cont = {vow for vow in input_str if vow in vowels}\n",
    "print(list(vowels_cont))"
   ]
  },
  {
   "cell_type": "code",
   "execution_count": 88,
   "id": "37bbe776-94cd-424e-a078-919b0007ff01",
   "metadata": {},
   "outputs": [
    {
     "name": "stdout",
     "output_type": "stream",
     "text": [
      "OK\n"
     ]
    }
   ],
   "source": [
    "list = ('a','b')\n",
    "if 'a' in list:\n",
    "    print(\"OK\")"
   ]
  },
  {
   "cell_type": "code",
   "execution_count": null,
   "id": "aea11734-b942-4e9c-abe6-07f7cf0cf243",
   "metadata": {},
   "outputs": [],
   "source": []
  }
 ],
 "metadata": {
  "kernelspec": {
   "display_name": "Python 3 (ipykernel)",
   "language": "python",
   "name": "python3"
  },
  "language_info": {
   "codemirror_mode": {
    "name": "ipython",
    "version": 3
   },
   "file_extension": ".py",
   "mimetype": "text/x-python",
   "name": "python",
   "nbconvert_exporter": "python",
   "pygments_lexer": "ipython3",
   "version": "3.11.3"
  }
 },
 "nbformat": 4,
 "nbformat_minor": 5
}
