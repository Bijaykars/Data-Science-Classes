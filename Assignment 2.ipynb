{
 "cells": [
  {
   "cell_type": "markdown",
   "id": "5d7f65ca-0a61-4f47-82a8-a2e34f0d6772",
   "metadata": {},
   "source": [
    "# Book Keeper"
   ]
  },
  {
   "cell_type": "code",
   "execution_count": 1,
   "id": "ce254117-73ff-4007-9965-b6969dba7990",
   "metadata": {},
   "outputs": [],
   "source": [
    "# A list of tuples, where each tuple contains information about a book: (title, genre, year_published, times_borrowed).\n",
    "\n",
    "books = [\n",
    "    (\"The Alchemist\", \"Fiction\", 1988, 250),\n",
    "    (\"The Da Vinci Code\", \"Mystery\", 2003, 300),\n",
    "    (\"A Brief History of Time\", \"Science\", 1988, 150),\n",
    "    (\"The Theory of Everything\", \"Science\", 2002, 100),\n",
    "    (\"Pride and Prejudice\", \"Fiction\", 1813, 200),\n",
    "    (\"To Kill a Mockingbird\", \"Fiction\", 1960, 180),\n",
    "    (\"The Catcher in the Rye\", \"Fiction\", 1951, 220),\n",
    "    (\"Angels & Demons\", \"Mystery\", 2000, 210),\n",
    "    (\"The Grand Design\", \"Science\", 2010, 90),\n",
    "    (\"1984\", \"Fiction\", 1949, 190)\n",
    "]"
   ]
  },
  {
   "cell_type": "markdown",
   "id": "832113f3-5173-4ba6-8552-02d31248d4f2",
   "metadata": {},
   "source": [
    "**Task 01**: Create a Book Filtering Function\n",
    "\n",
    "Given the list books as shown below, write a Python function named `filter_books` that filters books based on *genre* and *publication year*. The function should take two parameters: `genre (a string)` and `year (an integer)`. It should return a list of book titles that match the given genre and have been **published on or after** the specified year.\n",
    "\n",
    "- Example usage : `print(filter_books(\"Fiction\", 1980))`\n",
    "- Expected output: `['The Alchemist', 'The Catcher in the Rye']`\n",
    "\n",
    "*Try to use List Comprehension with If condition*"
   ]
  },
  {
   "cell_type": "code",
   "execution_count": 2,
   "id": "058cb98f-196d-4d94-aedd-5789b5155bf3",
   "metadata": {},
   "outputs": [
    {
     "name": "stdout",
     "output_type": "stream",
     "text": [
      "['The Alchemist']\n"
     ]
    }
   ],
   "source": [
    "def filter_books(genre, year):\n",
    "    name_list = [book[0] for book in books if book[1] == genre and book[2] >= year]\n",
    "    return name_list\n",
    "\n",
    "print(filter_books('Fiction' , 1980))"
   ]
  },
  {
   "cell_type": "markdown",
   "id": "ef63741e-437c-4c34-b1dd-1d629b98bf11",
   "metadata": {},
   "source": [
    "**Task 02** : Write a Python function named `borrowing_stats` that uses dictionary comprehension to create and return a dictionary. This dictionary should map each book's title to the number of times it has been borrowed, but only include books from the \"`Fiction`\" genre.\n",
    "\n",
    "\n",
    "- Example usage : `print(borrowing_stats(books))`\n",
    "- Expected output: `{'The Alchemist': 250, 'Pride and Prejudice': 200, 'To Kill a Mockingbird': 180, 'The Catcher in the Rye': 220, '1984': 190}`"
   ]
  },
  {
   "cell_type": "code",
   "execution_count": 3,
   "id": "a8b6bad6-36b4-4660-9919-2c787e094d9b",
   "metadata": {},
   "outputs": [
    {
     "name": "stdout",
     "output_type": "stream",
     "text": [
      "{'The Alchemist': 250, 'Pride and Prejudice': 200, 'To Kill a Mockingbird': 180, 'The Catcher in the Rye': 220, '1984': 190}\n"
     ]
    }
   ],
   "source": [
    "def borrowing_stats(books, friction = \"Fiction\"):  \n",
    "    num_times = {book[0]: book[3] for book in books if book[1] == friction }\n",
    "    return num_times\n",
    "\n",
    "print(borrowing_stats(books))"
   ]
  },
  {
   "cell_type": "markdown",
   "id": "0474f7e1-b39c-4f40-b2b3-dd21c7c604d7",
   "metadata": {},
   "source": [
    "**Task 03** : Write a Python program that uses a lambda expression to sort this list by publication year in ascending order. Print the sorted list of books.\n",
    "\n",
    "*Try using a lambda expression with the sorted() function*on"
   ]
  },
  {
   "cell_type": "code",
   "execution_count": 4,
   "id": "963d6cdc-d289-4519-8d89-cc7bb4b4ab4a",
   "metadata": {},
   "outputs": [
    {
     "name": "stdout",
     "output_type": "stream",
     "text": [
      "[90, 100, 150, 180, 190, 200, 210, 220, 250, 300]\n"
     ]
    }
   ],
   "source": [
    "book_list = lambda book : [books[3] for books in book]\n",
    "\n",
    "list = book_list(books)\n",
    "\n",
    "print(sorted(list))\n"
   ]
  },
  {
   "cell_type": "markdown",
   "id": "59ce3e96-180e-429f-817b-b6ae8ef8fdfa",
   "metadata": {},
   "source": [
    "### Question: File Read and Write\n",
    "**Write a Program that Uses Functions `write_to_file` and `read_from_file`**:\n",
    "- `write_to_file(filename, content)`: Writes `content` to a file named `filename`. If the file doesn't exist, it should be created.\n",
    "- `read_from_file(filename)`: Reads and prints the content of a file named `filename`.\n",
    "Call `write_to_file` to write \"Hello, Python!\" to a file named \"greetings.txt\", then call `read_from_file` to read and print the content of this file."
   ]
  },
  {
   "cell_type": "code",
   "execution_count": 5,
   "id": "aecc2c45-9337-40e5-8ead-70981b4af453",
   "metadata": {},
   "outputs": [
    {
     "name": "stdout",
     "output_type": "stream",
     "text": [
      "Hello, Python!\n"
     ]
    }
   ],
   "source": [
    "def write_to_file(filename, content):\n",
    "    f = open(filename, \"w\")\n",
    "    f.write(content)\n",
    "    f.close\n",
    "\n",
    "def read_from_file(filename):\n",
    "    f= open(filename, \"r\")\n",
    "    print(f.read())\n",
    "\n",
    "write_to_file(\"greetings.txt\", \"Hello, Python!\")\n",
    "read_from_file(\"greetings.txt\")\n"
   ]
  }
 ],
 "metadata": {
  "kernelspec": {
   "display_name": "Python 3 (ipykernel)",
   "language": "python",
   "name": "python3"
  },
  "language_info": {
   "codemirror_mode": {
    "name": "ipython",
    "version": 3
   },
   "file_extension": ".py",
   "mimetype": "text/x-python",
   "name": "python",
   "nbconvert_exporter": "python",
   "pygments_lexer": "ipython3",
   "version": "3.11.3"
  }
 },
 "nbformat": 4,
 "nbformat_minor": 5
}
