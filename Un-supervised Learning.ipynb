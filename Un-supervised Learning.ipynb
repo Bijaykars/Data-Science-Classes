{
 "cells": [
  {
   "cell_type": "markdown",
   "id": "88cb25c0-7ca1-4bbd-a9a5-68c1b637e446",
   "metadata": {},
   "source": [
    "# Unsupervised Learning"
   ]
  },
  {
   "cell_type": "markdown",
   "id": "f05c9ba4-84d0-45ea-9927-e799b9d23651",
   "metadata": {},
   "source": [
    "## Clustering Method"
   ]
  },
  {
   "cell_type": "markdown",
   "id": "74b329f5-32b2-4b08-a67d-1bdfe1abbc9c",
   "metadata": {},
   "source": [
    "Partition based Clustering ma matra focus garne aahile lai"
   ]
  },
  {
   "cell_type": "code",
   "execution_count": null,
   "id": "aa8bcb34-d800-4467-93d4-ab003fc46bc3",
   "metadata": {},
   "outputs": [],
   "source": []
  },
  {
   "cell_type": "code",
   "execution_count": null,
   "id": "9f322806-b7ff-43be-a917-153fdd358db9",
   "metadata": {},
   "outputs": [],
   "source": []
  }
 ],
 "metadata": {
  "kernelspec": {
   "display_name": "Python 3 (ipykernel)",
   "language": "python",
   "name": "python3"
  },
  "language_info": {
   "codemirror_mode": {
    "name": "ipython",
    "version": 3
   },
   "file_extension": ".py",
   "mimetype": "text/x-python",
   "name": "python",
   "nbconvert_exporter": "python",
   "pygments_lexer": "ipython3",
   "version": "3.11.3"
  }
 },
 "nbformat": 4,
 "nbformat_minor": 5
}
