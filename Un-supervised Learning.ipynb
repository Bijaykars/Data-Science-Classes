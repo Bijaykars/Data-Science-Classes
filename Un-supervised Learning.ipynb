{
 "cells": [
  {
   "cell_type": "markdown",
   "id": "88cb25c0-7ca1-4bbd-a9a5-68c1b637e446",
   "metadata": {},
   "source": [
    "# Cluster Validation"
   ]
  },
  {
   "cell_type": "markdown",
   "id": "9665ec92-90ff-4026-a812-2c582980c964",
   "metadata": {},
   "source": [
    "## Types of Cluster Validation"
   ]
  },
  {
   "cell_type": "code",
   "execution_count": 10,
   "id": "5b7eb321-f8bf-417e-ba15-f9cf2ba43b52",
   "metadata": {},
   "outputs": [],
   "source": [
    "\n",
    "from sklearn.metrics import silhouette_sa"
   ]
  },
  {
   "cell_type": "code",
   "execution_count": null,
   "id": "7d3fc142-7a31-4d52-8583-74ec91cec417",
   "metadata": {},
   "outputs": [],
   "source": [
    "scores = []\n",
    "for K in range(4,9):\n",
    "    model = KMeans(n_clusters = k, random_state = 42)\n",
    "    model.fit(data)\n",
    "    scores.append(silhouette_score(data, model.labels_))\n",
    "\n",
    "plt.figure(gfib_size = (6, 4))\n",
    "plt.plot(range(2, 9), scores, makers = \"-,\")\n",
    "plt.plot(range(2, 9 ), scores, s= 50)"
   ]
  },
  {
   "cell_type": "code",
   "execution_count": null,
   "id": "e049445f-e979-4206-b09f-5540cd107e84",
   "metadata": {},
   "outputs": [],
   "source": []
  },
  {
   "cell_type": "code",
   "execution_count": 12,
   "id": "bf8509b9-0b9d-4af5-87b5-f99e90a126fd",
   "metadata": {},
   "outputs": [],
   "source": [
    "from sklearn.metrics import jaccard_score"
   ]
  },
  {
   "cell_type": "markdown",
   "id": "2ae9a13f-5556-479d-aec4-7297f2322936",
   "metadata": {},
   "source": [
    "https://jpt.spe.org/controlling-crack-propagation-using-reinforcement-learning"
   ]
  },
  {
   "cell_type": "code",
   "execution_count": null,
   "id": "8d4d6070-4e2a-4dad-9d5e-344f3ba30fa1",
   "metadata": {},
   "outputs": [],
   "source": []
  }
 ],
 "metadata": {
  "kernelspec": {
   "display_name": "Python 3 (ipykernel)",
   "language": "python",
   "name": "python3"
  },
  "language_info": {
   "codemirror_mode": {
    "name": "ipython",
    "version": 3
   },
   "file_extension": ".py",
   "mimetype": "text/x-python",
   "name": "python",
   "nbconvert_exporter": "python",
   "pygments_lexer": "ipython3",
   "version": "3.11.3"
  }
 },
 "nbformat": 4,
 "nbformat_minor": 5
}
