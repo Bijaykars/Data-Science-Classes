{
 "cells": [
  {
   "cell_type": "markdown",
   "id": "7e76d9b4",
   "metadata": {},
   "source": [
    "# Problem Statement\n",
    "\n",
    "We want to build an online shopping cart system that allows users to add products to their cart, calculate the total cost, apply discounts, and generate an invoice. The system should include the following functionalities:\n",
    "\n",
    "- Adding products to the cart\n",
    "- Removing products from the cart\n",
    "- Calculating the total cost\n",
    "- Applying discounts based on user type\n",
    "- Generating an invoice\n",
    "\n",
    "### 1. Create the Product class\n",
    "\n",
    "We create a basic `Product` class with attributes for the product name and price."
   ]
  },
  {
   "cell_type": "code",
   "execution_count": 12,
   "id": "a286f01a",
   "metadata": {},
   "outputs": [],
   "source": [
    "class Product:\n",
    "    def __init__(self, name, price):\n",
    "        self.name = name\n",
    "        self.price = price"
   ]
  },
  {
   "cell_type": "markdown",
   "id": "0c9aa397",
   "metadata": {},
   "source": [
    "### 2.  Implement the User class\n",
    "\n",
    "In this step, we create a `User` class with attributes for the user's name and whether they are a premium member. We then modify the `calculate_total_cost` method in the `ShoppingCart` class to apply a `10%` discount for premium users."
   ]
  },
  {
   "cell_type": "code",
   "execution_count": 13,
   "id": "3393e953",
   "metadata": {},
   "outputs": [],
   "source": [
    "class User:\n",
    "    def __init__(self, name, prem_customer = False):\n",
    "        self.name = name\n",
    "        self.prem_customer = prem_customer"
   ]
  },
  {
   "cell_type": "markdown",
   "id": "3b7e070b",
   "metadata": {},
   "source": [
    "### 3. Create the ShoppingCart class\n",
    "\n",
    "In this step, we create a `ShoppingCart` class with methods for adding and removing products from the cart, as well as calculating the total cost of the items in the cart."
   ]
  },
  {
   "cell_type": "code",
   "execution_count": 14,
   "id": "c0b5196d",
   "metadata": {},
   "outputs": [],
   "source": [
    "class ShoppingCart:\n",
    "    def __init__(self,user):\n",
    "        self.user = user\n",
    "        self.product_list = []\n",
    "        self.price_list = []\n",
    "        \n",
    "        pass\n",
    "\n",
    "    def adding(self,products):\n",
    "        self.product_list.append(products.name)\n",
    "        self.price_list.append(products.price)\n",
    "        print(list(zip(self.product_list,self.price_list)))\n",
    "        \n",
    "        pass\n",
    "\n",
    "    def removing(self,remove_products):\n",
    "        if remove_products in self.product_list:\n",
    "            self.product_list.remove(remove_products)\n",
    "            print(self.product_list)\n",
    "        else:\n",
    "            print(f\"{remove_products} is not in the cart.\")\n",
    "        pass\n",
    "        \n",
    "    @discount_10_percent\n",
    "    def calculate_total_cost(self):\n",
    "        print(\"Generating invoice...\")\n",
    "        print(f\"User: {self.user.name}\")\n",
    "        print(\"Products in the cart:\")\n",
    "        for products in zip(self.product_list,self.price_list):\n",
    "            print(f\"{products[0]} : {products[1]}\")\n",
    "        \n",
    "        print (\"*\" * 30)\n",
    "        print(f\" Total Cost : {sum(self.price_list)}\")\n",
    "        return sum(self.price_list)"
   ]
  },
  {
   "cell_type": "markdown",
   "id": "da1f3494",
   "metadata": {},
   "source": [
    "Here, we defined a decorator `discount_10_percent` that applies a `10%` discount to the total cost. We then apply this decorator to the `calculate_total_cost` method in the `ShoppingCart` class."
   ]
  },
  {
   "cell_type": "code",
   "execution_count": 15,
   "id": "70bbec8d",
   "metadata": {},
   "outputs": [],
   "source": [
    "def discount_10_percent(func):\n",
    "    def wrapper(self):\n",
    "        if self.user.prem_customer:\n",
    "            total = func(self)\n",
    "            discount = total* 0.1\n",
    "            print(\"Discount Amount : \", discount)\n",
    "            print(\"*\" * 31)\n",
    "            print(\"Total amount after discount\", (total - discount))\n",
    "        else:\n",
    "            func(self)\n",
    "        pass\n",
    "    return wrapper"
   ]
  },
  {
   "cell_type": "markdown",
   "id": "afc26053",
   "metadata": {},
   "source": [
    "### 4. Testing the functionality\n",
    "\n",
    "Now that we have implemented the necessary classes and methods, let's test our online shopping cart system:"
   ]
  },
  {
   "cell_type": "code",
   "execution_count": 18,
   "id": "6186bdcb",
   "metadata": {},
   "outputs": [
    {
     "name": "stdout",
     "output_type": "stream",
     "text": [
      "[('Tomato', 2000)]\n",
      "[('Tomato', 2000), ('Carrot', 3000)]\n"
     ]
    }
   ],
   "source": [
    "user = User(\"Bijay\", True)\n",
    "product1 = Product(\"Tomato\", 2000)\n",
    "product2 = Product(\"Carrot\",3000)\n",
    "shoppincart = ShoppingCart(user)\n",
    "shoppincart.adding(product1)\n",
    "shoppincart.adding(product2)\n",
    "#shoppincart.removing(\"Carrot\")"
   ]
  },
  {
   "cell_type": "markdown",
   "id": "7ea7c96e",
   "metadata": {},
   "source": [
    "### 5. Generating Invoice for a given cart"
   ]
  },
  {
   "cell_type": "code",
   "execution_count": 19,
   "id": "3c12ae69",
   "metadata": {
    "scrolled": true
   },
   "outputs": [
    {
     "name": "stdout",
     "output_type": "stream",
     "text": [
      "Generating invoice...\n",
      "User: Bijay\n",
      "Products in the cart:\n",
      "Tomato : 2000\n",
      "Carrot : 3000\n",
      "******************************\n",
      " Total Cost : 5000\n",
      "Discount Amount :  500.0\n",
      "*******************************\n",
      "Total amount after discount 4500.0\n"
     ]
    }
   ],
   "source": [
    "shoppincart.calculate_total_cost()"
   ]
  },
  {
   "cell_type": "markdown",
   "id": "b602d561-09a8-4086-9295-dce1e8dacb71",
   "metadata": {},
   "source": [
    "### 6. Bonus Challenge"
   ]
  },
  {
   "cell_type": "markdown",
   "id": "cd2cf83b",
   "metadata": {},
   "source": [
    "In this case each user share the same cart, which is useless. Also each user can register himself/herself as a premium user, which is not practical again. So, you have to add following two additional features to the above program, to make it more real:\n",
    "\n",
    "1. Cart for a user should be independent from other users\n",
    "2. Add a new admin feature `is_admin` that takes in boolean values `[True, False]`, and only admin should be allowed to create other admins and set `is_premium=True` for other users"
   ]
  },
  {
   "cell_type": "markdown",
   "id": "72c9d954-d7be-466b-a74f-e232a808bbc8",
   "metadata": {},
   "source": []
  },
  {
   "cell_type": "code",
   "execution_count": null,
   "id": "5244b918-ff53-4a64-ba68-3b3f4cc33c8a",
   "metadata": {},
   "outputs": [],
   "source": []
  }
 ],
 "metadata": {
  "kernelspec": {
   "display_name": "Python 3 (ipykernel)",
   "language": "python",
   "name": "python3"
  },
  "language_info": {
   "codemirror_mode": {
    "name": "ipython",
    "version": 3
   },
   "file_extension": ".py",
   "mimetype": "text/x-python",
   "name": "python",
   "nbconvert_exporter": "python",
   "pygments_lexer": "ipython3",
   "version": "3.11.3"
  }
 },
 "nbformat": 4,
 "nbformat_minor": 5
}
